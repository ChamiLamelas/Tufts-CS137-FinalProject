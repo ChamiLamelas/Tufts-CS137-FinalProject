{
 "cells": [
  {
   "cell_type": "code",
   "execution_count": 1,
   "id": "af94230d",
   "metadata": {},
   "outputs": [],
   "source": [
    "import torchvision.datasets as datasets\n",
    "from PIL import Image, ImageDraw\n",
    "import numpy as np\n",
    "\n",
    "mnist_trainset = datasets.MNIST(root='../data/mnist_train', train=True, download=True, transform=None)"
   ]
  },
  {
   "cell_type": "code",
   "execution_count": 2,
   "id": "ae78ac98",
   "metadata": {
    "scrolled": true
   },
   "outputs": [
    {
     "data": {
      "text/plain": [
       "Dataset MNIST\n",
       "    Number of datapoints: 60000\n",
       "    Root location: ../data/mnist_train\n",
       "    Split: Train"
      ]
     },
     "execution_count": 2,
     "metadata": {},
     "output_type": "execute_result"
    }
   ],
   "source": [
    "mnist_trainset"
   ]
  },
  {
   "cell_type": "code",
   "execution_count": 22,
   "id": "3065efc5",
   "metadata": {},
   "outputs": [
    {
     "data": {
      "text/plain": [
       "PIL.Image.Image"
      ]
     },
     "execution_count": 22,
     "metadata": {},
     "output_type": "execute_result"
    }
   ],
   "source": [
    "type(mnist_trainset[0][0])"
   ]
  },
  {
   "cell_type": "code",
   "execution_count": 5,
   "id": "3fa0b744",
   "metadata": {},
   "outputs": [],
   "source": [
    "labels = np.array([e[1] for e in mnist_trainset])"
   ]
  },
  {
   "cell_type": "code",
   "execution_count": 12,
   "id": "a56ab441",
   "metadata": {},
   "outputs": [
    {
     "data": {
      "text/plain": [
       "4"
      ]
     },
     "execution_count": 12,
     "metadata": {},
     "output_type": "execute_result"
    }
   ],
   "source": [
    "np.where(labels == i)[0][0]"
   ]
  },
  {
   "cell_type": "code",
   "execution_count": 13,
   "id": "c3a8da0b",
   "metadata": {},
   "outputs": [],
   "source": [
    "indices = list()\n",
    "for i in range(10):\n",
    "    indices.append(np.where(labels == i)[0][0])"
   ]
  },
  {
   "cell_type": "code",
   "execution_count": 14,
   "id": "b95a321b",
   "metadata": {},
   "outputs": [
    {
     "name": "stdout",
     "output_type": "stream",
     "text": [
      "[1, 3, 5, 7, 2, 0, 13, 15, 17, 4]\n"
     ]
    }
   ],
   "source": [
    "print(indices)"
   ]
  },
  {
   "cell_type": "code",
   "execution_count": 20,
   "id": "675892a9",
   "metadata": {},
   "outputs": [],
   "source": [
    "fps = [f'../data/sample_mnist/image{i}.png' for i in range(10)]\n",
    "for i, fp in zip(indices, fps):\n",
    "    \n",
    "    \n",
    "    mnist_trainset[i][0].save(fp)"
   ]
  }
 ],
 "metadata": {
  "kernelspec": {
   "display_name": "Python 3 (ipykernel)",
   "language": "python",
   "name": "python3"
  },
  "language_info": {
   "codemirror_mode": {
    "name": "ipython",
    "version": 3
   },
   "file_extension": ".py",
   "mimetype": "text/x-python",
   "name": "python",
   "nbconvert_exporter": "python",
   "pygments_lexer": "ipython3",
   "version": "3.9.12"
  }
 },
 "nbformat": 4,
 "nbformat_minor": 5
}
