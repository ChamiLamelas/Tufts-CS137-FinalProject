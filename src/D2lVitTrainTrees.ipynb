{
 "cells": [
  {
   "cell_type": "code",
   "execution_count": 1,
   "id": "9d231f35",
   "metadata": {},
   "outputs": [],
   "source": [
    "from tree_dataset import TreeDataset\n",
    "import model as m\n",
    "from torch.utils.data import DataLoader\n",
    "import os\n",
    "import torchvision.transforms as transforms\n",
    "from d2lvit import *\n",
    "import copy\n",
    "import torch.nn as nn"
   ]
  },
  {
   "cell_type": "code",
   "execution_count": 2,
   "id": "0b3bafe7",
   "metadata": {},
   "outputs": [
    {
     "name": "stdout",
     "output_type": "stream",
     "text": [
      "Train size: 2000 Val size: 1000\n",
      "Identified CUDA device: NVIDIA GeForce RTX 3060\n"
     ]
    }
   ],
   "source": [
    "preprocess = transforms.Compose([\n",
    "    transforms.Grayscale(),\n",
    "    transforms.Resize(256),\n",
    "    transforms.CenterCrop(224),\n",
    "    transforms.ToTensor()\n",
    "])\n",
    "train_set = TreeDataset(os.path.join('..', 'data', 'trainset4'), preprocess) \n",
    "val_set = TreeDataset(os.path.join('..', 'data', 'trainset1'), preprocess)\n",
    "print(f'Train size: {len(train_set)} Val size: {len(val_set)}')\n",
    "train_loader = DataLoader(train_set, batch_size=32)\n",
    "val_loader = DataLoader(val_set, batch_size=32)\n",
    "device = m.get_device()\n",
    "config = {'labels_key': 'digit_labels'}"
   ]
  },
  {
   "cell_type": "code",
   "execution_count": 3,
   "id": "86f81af5",
   "metadata": {},
   "outputs": [],
   "source": [
    "model = m.scratch_trained_d2l_vit_digits_model()"
   ]
  },
  {
   "cell_type": "code",
   "execution_count": 4,
   "id": "dea152e0",
   "metadata": {},
   "outputs": [
    {
     "name": "stdout",
     "output_type": "stream",
     "text": [
      "1.0\n"
     ]
    }
   ],
   "source": [
    "train_acc = m.predict(model, train_loader, device, config, None)\n",
    "print(train_acc)"
   ]
  },
  {
   "cell_type": "code",
   "execution_count": 5,
   "id": "9881846a",
   "metadata": {},
   "outputs": [
    {
     "name": "stdout",
     "output_type": "stream",
     "text": [
      "1.0\n"
     ]
    }
   ],
   "source": [
    "val_acc = m.predict(model, val_loader, device, config, None)\n",
    "print(val_acc)"
   ]
  },
  {
   "cell_type": "code",
   "execution_count": 6,
   "id": "23dd949c",
   "metadata": {},
   "outputs": [],
   "source": [
    "digits_model = copy.deepcopy(model)"
   ]
  },
  {
   "cell_type": "code",
   "execution_count": 7,
   "id": "ca1909e9",
   "metadata": {},
   "outputs": [],
   "source": [
    "model.head = nn.Sequential(\n",
    "    nn.LayerNorm((512,), eps=1e-05, elementwise_affine=True),\n",
    "    nn.Linear(512, 45)\n",
    ")\n",
    "model = model.to(device)"
   ]
  },
  {
   "cell_type": "code",
   "execution_count": 8,
   "id": "7ebfc11a",
   "metadata": {},
   "outputs": [
    {
     "data": {
      "text/plain": [
       "tensor([[ 0.6323, -0.0355, -0.7307, -0.7880, -0.0793,  0.1641,  0.1942,  0.0765,\n",
       "         -0.8921, -0.4477,  0.3037,  0.3669,  0.0016, -0.4484, -0.6748,  0.5939,\n",
       "          0.3098, -1.0040,  0.6282,  0.0548,  0.5700,  0.5419, -0.4336,  0.6089,\n",
       "         -0.5477,  0.3620, -0.5139, -1.0191,  0.9796,  0.1361,  0.8076,  0.3364,\n",
       "         -0.6024, -0.3169, -0.3417,  0.1919,  0.2471, -0.7637,  1.2581,  0.0854,\n",
       "          1.2756, -0.8350,  0.8885, -0.9039, -0.1991]], device='cuda:0',\n",
       "       grad_fn=<AddmmBackward0>)"
      ]
     },
     "execution_count": 8,
     "metadata": {},
     "output_type": "execute_result"
    }
   ],
   "source": [
    "model(torch.unsqueeze(train_set[0]['image'], 0).to(device))"
   ]
  },
  {
   "cell_type": "code",
   "execution_count": 10,
   "id": "9b1f4a4d",
   "metadata": {},
   "outputs": [
    {
     "name": "stdout",
     "output_type": "stream",
     "text": [
      "Epoch 10 done, train loss: 0.0013 val acc: 0.9010\n"
     ]
    }
   ],
   "source": [
    "m.train(model, 0.0001, 0, 10, train_loader, val_loader, device, os.path.join('..', 'models', 'd2lvit'), digits_model)"
   ]
  },
  {
   "cell_type": "code",
   "execution_count": null,
   "id": "72efdbfc",
   "metadata": {},
   "outputs": [],
   "source": []
  }
 ],
 "metadata": {
  "kernelspec": {
   "display_name": "Python 3 (ipykernel)",
   "language": "python",
   "name": "python3"
  },
  "language_info": {
   "codemirror_mode": {
    "name": "ipython",
    "version": 3
   },
   "file_extension": ".py",
   "mimetype": "text/x-python",
   "name": "python",
   "nbconvert_exporter": "python",
   "pygments_lexer": "ipython3",
   "version": "3.9.12"
  }
 },
 "nbformat": 4,
 "nbformat_minor": 5
}
