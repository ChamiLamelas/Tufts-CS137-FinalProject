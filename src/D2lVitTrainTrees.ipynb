{
 "cells": [
  {
   "cell_type": "code",
   "execution_count": 1,
   "id": "0b628507",
   "metadata": {},
   "outputs": [],
   "source": [
    "from tree_dataset import TreeDataset\n",
    "import model as m\n",
    "from torch.utils.data import DataLoader\n",
    "import os\n",
    "import torchvision.transforms as transforms\n",
    "from d2lvit import *\n",
    "import copy\n",
    "import torch.nn as nn"
   ]
  },
  {
   "cell_type": "code",
   "execution_count": 2,
   "id": "7c15ac6f",
   "metadata": {},
   "outputs": [
    {
     "name": "stdout",
     "output_type": "stream",
     "text": [
      "Train size: 4000 Val size: 2000\n",
      "Identified CUDA device: NVIDIA GeForce RTX 3060\n"
     ]
    }
   ],
   "source": [
    "preprocess = transforms.Compose([\n",
    "    transforms.Grayscale(),\n",
    "    transforms.Resize(256),\n",
    "    transforms.CenterCrop(224),\n",
    "    transforms.ToTensor()\n",
    "])\n",
    "train_set = TreeDataset(os.path.join('..', 'data', 'extra_variety_4k'), preprocess) \n",
    "val_set = TreeDataset(os.path.join('..', 'data', 'extra_variety_2k'), preprocess)\n",
    "print(f'Train size: {len(train_set)} Val size: {len(val_set)}')\n",
    "train_loader = DataLoader(train_set, batch_size=32)\n",
    "val_loader = DataLoader(val_set, batch_size=32)\n",
    "device = m.get_device()\n",
    "config = {'labels_key': 'digit_labels'}"
   ]
  },
  {
   "cell_type": "code",
   "execution_count": 3,
   "id": "08807aa2",
   "metadata": {},
   "outputs": [],
   "source": [
    "model = torch.load(os.path.join('..', 'models', 'd2lvit_3', 'digit-model.pt'))"
   ]
  },
  {
   "cell_type": "code",
   "execution_count": 4,
   "id": "3be98e7e",
   "metadata": {},
   "outputs": [
    {
     "name": "stdout",
     "output_type": "stream",
     "text": [
      "1.0\n"
     ]
    }
   ],
   "source": [
    "train_acc = m.predict(model, train_loader, device, config, None)\n",
    "print(train_acc)"
   ]
  },
  {
   "cell_type": "code",
   "execution_count": 5,
   "id": "be19eb6e",
   "metadata": {},
   "outputs": [
    {
     "name": "stdout",
     "output_type": "stream",
     "text": [
      "1.0\n"
     ]
    }
   ],
   "source": [
    "val_acc = m.predict(model, val_loader, device, config, None)\n",
    "print(val_acc)"
   ]
  },
  {
   "cell_type": "code",
   "execution_count": 6,
   "id": "53a6ace2",
   "metadata": {},
   "outputs": [],
   "source": [
    "digits_model = copy.deepcopy(model)"
   ]
  },
  {
   "cell_type": "code",
   "execution_count": 7,
   "id": "3fb08a43",
   "metadata": {},
   "outputs": [],
   "source": [
    "model.head = nn.Sequential(\n",
    "    nn.LayerNorm((512,), eps=1e-05, elementwise_affine=True),\n",
    "    nn.Linear(512, 45)\n",
    ")\n",
    "model = model.to(device)"
   ]
  },
  {
   "cell_type": "code",
   "execution_count": 8,
   "id": "29cfb621",
   "metadata": {},
   "outputs": [
    {
     "data": {
      "text/plain": [
       "tensor([[-0.8718, -0.6324, -0.1467,  0.2002,  0.2749,  0.4353, -0.1071, -0.6023,\n",
       "          0.2261,  0.6045, -0.6051, -0.6577, -0.3231,  0.2476,  0.4779, -0.5069,\n",
       "         -0.1710, -0.6678, -0.2356, -0.6726,  1.0237,  0.4148, -0.6056,  0.5098,\n",
       "         -0.0053,  0.9754,  0.2620, -0.1762,  0.7682,  0.3814, -0.4088, -0.0744,\n",
       "         -0.3448, -0.2181,  0.7172, -0.1708, -0.0571, -0.0330, -0.6256,  0.6114,\n",
       "          0.5187, -0.6235,  0.4866, -0.4230, -0.6395]], device='cuda:0',\n",
       "       grad_fn=<AddmmBackward0>)"
      ]
     },
     "execution_count": 8,
     "metadata": {},
     "output_type": "execute_result"
    }
   ],
   "source": [
    "model(torch.unsqueeze(train_set[0]['image'], 0).to(device))"
   ]
  },
  {
   "cell_type": "code",
   "execution_count": 9,
   "id": "f7bd0374",
   "metadata": {
    "scrolled": true
   },
   "outputs": [
    {
     "name": "stdout",
     "output_type": "stream",
     "text": [
      "Epoch 10 done, train loss: 0.0023 val acc: 1.0000\n",
      "Epoch 20 done, train loss: 0.0015 val acc: 1.0000\n",
      "Epoch 30 done, train loss: 0.0003 val acc: 1.0000\n",
      "Epoch 40 done, train loss: 0.0003 val acc: 1.0000\n",
      "Epoch 50 done, train loss: 0.0002 val acc: 1.0000\n",
      "Epoch 60 done, train loss: 0.0011 val acc: 1.0000\n",
      "Epoch 70 done, train loss: 0.0001 val acc: 1.0000\n",
      "Epoch 80 done, train loss: 0.0003 val acc: 1.0000\n",
      "Epoch 90 done, train loss: 0.0027 val acc: 1.0000\n",
      "Epoch 100 done, train loss: 0.0001 val acc: 1.0000\n"
     ]
    }
   ],
   "source": [
    "m.train(model, 0.0001, 0, 100, train_loader, val_loader, device, os.path.join('..', 'models', 'd2lvit_3'), digits_model)"
   ]
  },
  {
   "cell_type": "code",
   "execution_count": 10,
   "id": "070910ba",
   "metadata": {},
   "outputs": [],
   "source": [
    "model = torch.load(os.path.join('..', 'models', 'd2lvit_3', 'tree-model.pt'))"
   ]
  },
  {
   "cell_type": "code",
   "execution_count": 11,
   "id": "84ac2f59",
   "metadata": {},
   "outputs": [
    {
     "name": "stdout",
     "output_type": "stream",
     "text": [
      "1.0\n"
     ]
    }
   ],
   "source": [
    "config = {'labels_key': 'tree_label'}\n",
    "train_acc = m.predict(model, train_loader, device, config, digits_model)\n",
    "print(train_acc)"
   ]
  },
  {
   "cell_type": "code",
   "execution_count": 12,
   "id": "b8bce86f",
   "metadata": {},
   "outputs": [
    {
     "name": "stdout",
     "output_type": "stream",
     "text": [
      "1.0\n"
     ]
    }
   ],
   "source": [
    "val_acc = m.predict(model, val_loader, device, config, digits_model)\n",
    "print(val_acc)"
   ]
  }
 ],
 "metadata": {
  "kernelspec": {
   "display_name": "Python 3 (ipykernel)",
   "language": "python",
   "name": "python3"
  },
  "language_info": {
   "codemirror_mode": {
    "name": "ipython",
    "version": 3
   },
   "file_extension": ".py",
   "mimetype": "text/x-python",
   "name": "python",
   "nbconvert_exporter": "python",
   "pygments_lexer": "ipython3",
   "version": "3.9.12"
  }
 },
 "nbformat": 4,
 "nbformat_minor": 5
}
