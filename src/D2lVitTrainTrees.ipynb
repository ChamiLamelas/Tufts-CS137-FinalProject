{
 "cells": [
  {
   "cell_type": "code",
   "execution_count": 1,
   "id": "c09e6e02",
   "metadata": {},
   "outputs": [],
   "source": [
    "from tree_dataset import TreeDataset\n",
    "import model as m\n",
    "from torch.utils.data import DataLoader\n",
    "import os\n",
    "import torchvision.transforms as transforms\n",
    "from d2lvit import *\n",
    "import copy\n",
    "import torch.nn as nn"
   ]
  },
  {
   "cell_type": "code",
   "execution_count": 2,
   "id": "72fe8f6c",
   "metadata": {},
   "outputs": [
    {
     "name": "stdout",
     "output_type": "stream",
     "text": [
      "Train size: 2000 Val size: 1000\n",
      "Identified CUDA device: NVIDIA GeForce RTX 3060\n"
     ]
    }
   ],
   "source": [
    "preprocess = transforms.Compose([\n",
    "    transforms.Grayscale(),\n",
    "    transforms.Resize(256),\n",
    "    transforms.CenterCrop(224),\n",
    "    transforms.ToTensor()\n",
    "])\n",
    "train_set = TreeDataset(os.path.join('..', 'data', 'trainset4'), preprocess) \n",
    "val_set = TreeDataset(os.path.join('..', 'data', 'trainset1'), preprocess)\n",
    "print(f'Train size: {len(train_set)} Val size: {len(val_set)}')\n",
    "train_loader = DataLoader(train_set, batch_size=32)\n",
    "val_loader = DataLoader(val_set, batch_size=32)\n",
    "device = m.get_device()\n",
    "config = {'labels_key': 'digit_labels'}"
   ]
  },
  {
   "cell_type": "code",
   "execution_count": 3,
   "id": "9f3524f4",
   "metadata": {},
   "outputs": [],
   "source": [
    "model = m.scratch_trained_d2l_vit_digits_model()"
   ]
  },
  {
   "cell_type": "code",
   "execution_count": 4,
   "id": "767949ea",
   "metadata": {},
   "outputs": [
    {
     "name": "stdout",
     "output_type": "stream",
     "text": [
      "1.0\n"
     ]
    }
   ],
   "source": [
    "train_acc = m.predict(model, train_loader, device, config, None)\n",
    "print(train_acc)"
   ]
  },
  {
   "cell_type": "code",
   "execution_count": 5,
   "id": "0f6cb01c",
   "metadata": {},
   "outputs": [
    {
     "name": "stdout",
     "output_type": "stream",
     "text": [
      "1.0\n"
     ]
    }
   ],
   "source": [
    "val_acc = m.predict(model, val_loader, device, config, None)\n",
    "print(val_acc)"
   ]
  },
  {
   "cell_type": "code",
   "execution_count": 6,
   "id": "2096e889",
   "metadata": {},
   "outputs": [],
   "source": [
    "digits_model = copy.deepcopy(model)"
   ]
  },
  {
   "cell_type": "code",
   "execution_count": 7,
   "id": "b436c6be",
   "metadata": {},
   "outputs": [],
   "source": [
    "model.head = nn.Sequential(\n",
    "    nn.LayerNorm((512,), eps=1e-05, elementwise_affine=True),\n",
    "    nn.Linear(512, 45)\n",
    ")\n",
    "model = model.to(device)"
   ]
  },
  {
   "cell_type": "code",
   "execution_count": 8,
   "id": "69e72dd8",
   "metadata": {},
   "outputs": [
    {
     "data": {
      "text/plain": [
       "tensor([[ 0.2586, -0.4803,  0.2058,  0.2515, -0.3374,  0.4503, -0.5561, -0.3732,\n",
       "          0.5386,  0.1772, -0.4163, -0.6740,  0.7919,  0.5417,  0.1346, -1.4765,\n",
       "         -0.2261,  0.2941, -1.3029, -0.1853,  0.2953, -0.9804, -1.3957, -0.0534,\n",
       "         -0.0910, -0.1913, -0.2252, -0.5292,  0.3289, -0.3618,  1.1305,  1.6111,\n",
       "          0.1452,  0.4832, -0.5062, -1.1609,  0.4355, -0.3138, -0.1307,  0.5206,\n",
       "         -0.2338, -0.2869, -0.2354,  0.5448,  0.9255]], device='cuda:0',\n",
       "       grad_fn=<AddmmBackward0>)"
      ]
     },
     "execution_count": 8,
     "metadata": {},
     "output_type": "execute_result"
    }
   ],
   "source": [
    "model(torch.unsqueeze(train_set[0]['image'], 0).to(device))"
   ]
  },
  {
   "cell_type": "code",
   "execution_count": null,
   "id": "911654b5",
   "metadata": {},
   "outputs": [
    {
     "name": "stdout",
     "output_type": "stream",
     "text": [
      "Epoch 10 done, train loss: 0.0037 val acc: 0.9010\n",
      "Epoch 20 done, train loss: 0.0011 val acc: 0.9010\n",
      "Epoch 30 done, train loss: 0.0059 val acc: 0.9010\n",
      "Epoch 40 done, train loss: 0.0003 val acc: 0.9010\n",
      "Epoch 50 done, train loss: 0.0002 val acc: 0.9010\n",
      "Epoch 60 done, train loss: 0.0001 val acc: 0.9010\n",
      "Epoch 70 done, train loss: 0.0002 val acc: 0.9010\n"
     ]
    }
   ],
   "source": [
    "m.train(model, 0.0001, 0, 100, train_loader, val_loader, device, os.path.join('..', 'models', 'd2lvit'), digits_model)"
   ]
  },
  {
   "cell_type": "code",
   "execution_count": null,
   "id": "47ec5dd3",
   "metadata": {},
   "outputs": [],
   "source": []
  }
 ],
 "metadata": {
  "kernelspec": {
   "display_name": "Python 3 (ipykernel)",
   "language": "python",
   "name": "python3"
  },
  "language_info": {
   "codemirror_mode": {
    "name": "ipython",
    "version": 3
   },
   "file_extension": ".py",
   "mimetype": "text/x-python",
   "name": "python",
   "nbconvert_exporter": "python",
   "pygments_lexer": "ipython3",
   "version": "3.9.12"
  }
 },
 "nbformat": 4,
 "nbformat_minor": 5
}
