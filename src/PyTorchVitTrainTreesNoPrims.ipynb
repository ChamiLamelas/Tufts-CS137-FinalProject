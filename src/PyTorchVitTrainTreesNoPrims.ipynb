{
 "cells": [
  {
   "cell_type": "code",
   "execution_count": 1,
   "id": "61bbde74",
   "metadata": {},
   "outputs": [],
   "source": [
    "import torch\n",
    "import torch.nn as nn\n",
    "from vit_pytorch import ViT\n",
    "from graphs import Graph, prims\n",
    "import os\n",
    "import numpy as np\n",
    "import torchvision.models as models\n",
    "import torchvision.transforms as transforms\n",
    "from torchvision.models import ResNet18_Weights\n",
    "from tree_dataset import TreeDataset\n",
    "import model as m\n",
    "from torch.utils.data import DataLoader\n",
    "from d2lvit import *\n",
    "import copy\n",
    "from collections import OrderedDict"
   ]
  },
  {
   "cell_type": "code",
   "execution_count": 2,
   "id": "b106b5ad",
   "metadata": {},
   "outputs": [],
   "source": [
    "model = torch.load(os.path.join('..', 'models', 'finetune_3', 'digit-model.pt'))"
   ]
  },
  {
   "cell_type": "code",
   "execution_count": 3,
   "id": "04094f59",
   "metadata": {},
   "outputs": [
    {
     "name": "stdout",
     "output_type": "stream",
     "text": [
      "Train size: 4000 Val size: 2000\n",
      "Identified CUDA device: NVIDIA GeForce RTX 3060\n"
     ]
    }
   ],
   "source": [
    "train_set = TreeDataset(os.path.join('..', 'data', 'extra_variety_4k'), m.resnet_preprocess()) \n",
    "val_set = TreeDataset(os.path.join('..', 'data', 'extra_variety_2k'), m.resnet_preprocess()) \n",
    "print(f'Train size: {len(train_set)} Val size: {len(val_set)}')\n",
    "train_loader = DataLoader(train_set, batch_size=32)\n",
    "val_loader = DataLoader(val_set, batch_size=32)\n",
    "device = m.get_device()\n",
    "config = {'labels_key': 'digit_labels'}"
   ]
  },
  {
   "cell_type": "code",
   "execution_count": 4,
   "id": "691aa528",
   "metadata": {},
   "outputs": [
    {
     "name": "stdout",
     "output_type": "stream",
     "text": [
      "1.0\n"
     ]
    }
   ],
   "source": [
    "train_acc = m.predict(model, train_loader, device, config, None)\n",
    "print(train_acc)"
   ]
  },
  {
   "cell_type": "code",
   "execution_count": 5,
   "id": "5de0448b",
   "metadata": {},
   "outputs": [
    {
     "name": "stdout",
     "output_type": "stream",
     "text": [
      "1.0\n"
     ]
    }
   ],
   "source": [
    "val_acc = m.predict(model, val_loader, device, config, None)\n",
    "print(val_acc)"
   ]
  },
  {
   "cell_type": "code",
   "execution_count": 6,
   "id": "6eeaa4f2",
   "metadata": {},
   "outputs": [],
   "source": [
    "digits_model = copy.deepcopy(model)"
   ]
  },
  {
   "cell_type": "code",
   "execution_count": 7,
   "id": "1527bb4e",
   "metadata": {},
   "outputs": [],
   "source": [
    "model.heads = nn.Sequential(OrderedDict([('head', nn.Linear(768, 45))]))\n",
    "model = model.to(device)"
   ]
  },
  {
   "cell_type": "code",
   "execution_count": 8,
   "id": "dfc0e3ce",
   "metadata": {},
   "outputs": [
    {
     "data": {
      "text/plain": [
       "tensor([[ 0.1761,  0.0646, -0.4344,  0.2091, -0.7125, -0.3259,  0.4421, -0.7209,\n",
       "          0.6050,  0.1678, -0.2778,  0.2430, -0.1893, -0.0903, -1.0688,  0.4158,\n",
       "         -1.0061, -0.0751, -0.8144,  0.0921, -0.4842, -0.5707, -0.0627,  0.6933,\n",
       "         -1.3600, -0.0814,  0.3077,  0.1235,  0.0099, -0.0283,  1.0226, -0.4961,\n",
       "         -0.2277, -0.0533, -0.1118, -0.5529, -0.7020,  0.3817,  0.4434,  0.1478,\n",
       "          0.2748,  0.6021,  0.4181,  0.0417, -0.2478]], device='cuda:0',\n",
       "       grad_fn=<AddmmBackward0>)"
      ]
     },
     "execution_count": 8,
     "metadata": {},
     "output_type": "execute_result"
    }
   ],
   "source": [
    "model(torch.unsqueeze(train_set[0]['image'], 0).to(device))"
   ]
  },
  {
   "cell_type": "code",
   "execution_count": 9,
   "id": "ecde01d1",
   "metadata": {
    "scrolled": true
   },
   "outputs": [
    {
     "name": "stdout",
     "output_type": "stream",
     "text": [
      "Epoch 10 done, train loss: 0.0006 val acc: 1.0000\n",
      "Epoch 20 done, train loss: 0.0001 val acc: 1.0000\n",
      "Epoch 30 done, train loss: 0.0001 val acc: 1.0000\n",
      "Epoch 40 done, train loss: 0.0000 val acc: 1.0000\n",
      "Epoch 50 done, train loss: 0.0000 val acc: 1.0000\n",
      "Epoch 60 done, train loss: 0.0000 val acc: 1.0000\n",
      "Epoch 70 done, train loss: 0.0000 val acc: 1.0000\n",
      "Epoch 80 done, train loss: 0.0000 val acc: 1.0000\n",
      "Epoch 90 done, train loss: 0.0000 val acc: 1.0000\n",
      "Epoch 100 done, train loss: 0.0000 val acc: 1.0000\n"
     ]
    }
   ],
   "source": [
    "m.train(model, 0.0001, 0, 100, train_loader, val_loader, device, os.path.join('..', 'models', 'finetune_noprims'), digits_model)"
   ]
  },
  {
   "cell_type": "code",
   "execution_count": 10,
   "id": "fa7ddd6f",
   "metadata": {},
   "outputs": [],
   "source": [
    "model = torch.load(os.path.join('..', 'models', 'finetune_noprims', 'tree-model.pt'))"
   ]
  },
  {
   "cell_type": "code",
   "execution_count": 11,
   "id": "e5a7e3ef",
   "metadata": {},
   "outputs": [
    {
     "name": "stdout",
     "output_type": "stream",
     "text": [
      "1.0\n"
     ]
    }
   ],
   "source": [
    "config = {'labels_key': 'tree_label'}\n",
    "train_acc = m.predict(model, train_loader, device, config, digits_model)\n",
    "print(train_acc)"
   ]
  },
  {
   "cell_type": "code",
   "execution_count": 12,
   "id": "e705c330",
   "metadata": {},
   "outputs": [
    {
     "name": "stdout",
     "output_type": "stream",
     "text": [
      "1.0\n"
     ]
    }
   ],
   "source": [
    "val_acc = m.predict(model, val_loader, device, config, digits_model)\n",
    "print(val_acc)"
   ]
  }
 ],
 "metadata": {
  "kernelspec": {
   "display_name": "Python 3 (ipykernel)",
   "language": "python",
   "name": "python3"
  },
  "language_info": {
   "codemirror_mode": {
    "name": "ipython",
    "version": 3
   },
   "file_extension": ".py",
   "mimetype": "text/x-python",
   "name": "python",
   "nbconvert_exporter": "python",
   "pygments_lexer": "ipython3",
   "version": "3.9.12"
  }
 },
 "nbformat": 4,
 "nbformat_minor": 5
}
