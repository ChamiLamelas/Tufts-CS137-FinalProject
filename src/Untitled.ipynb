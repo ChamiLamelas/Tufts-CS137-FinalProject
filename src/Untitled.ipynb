{
 "cells": [
  {
   "cell_type": "code",
   "execution_count": 1,
   "id": "2257a31c",
   "metadata": {},
   "outputs": [],
   "source": [
    "import torchvision.datasets as datasets\n",
    "from PIL import Image, ImageDraw\n",
    "import numpy as np\n",
    "\n",
    "mnist_trainset = datasets.MNIST(root='../data/mnist_train', train=True, download=True, transform=None)"
   ]
  },
  {
   "cell_type": "code",
   "execution_count": 2,
   "id": "388263aa",
   "metadata": {
    "scrolled": true
   },
   "outputs": [
    {
     "data": {
      "text/plain": [
       "Dataset MNIST\n",
       "    Number of datapoints: 60000\n",
       "    Root location: ../data/mnist_train\n",
       "    Split: Train"
      ]
     },
     "execution_count": 2,
     "metadata": {},
     "output_type": "execute_result"
    }
   ],
   "source": [
    "mnist_trainset"
   ]
  },
  {
   "cell_type": "code",
   "execution_count": 22,
   "id": "525353e0",
   "metadata": {},
   "outputs": [
    {
     "data": {
      "text/plain": [
       "PIL.Image.Image"
      ]
     },
     "execution_count": 22,
     "metadata": {},
     "output_type": "execute_result"
    }
   ],
   "source": [
    "type(mnist_trainset[0][0])"
   ]
  },
  {
   "cell_type": "code",
   "execution_count": 5,
   "id": "021e8d31",
   "metadata": {},
   "outputs": [],
   "source": [
    "labels = np.array([e[1] for e in mnist_trainset])"
   ]
  },
  {
   "cell_type": "code",
   "execution_count": 12,
   "id": "3d151c92",
   "metadata": {},
   "outputs": [
    {
     "data": {
      "text/plain": [
       "4"
      ]
     },
     "execution_count": 12,
     "metadata": {},
     "output_type": "execute_result"
    }
   ],
   "source": [
    "np.where(labels == i)[0][0]"
   ]
  },
  {
   "cell_type": "code",
   "execution_count": 13,
   "id": "310290b2",
   "metadata": {},
   "outputs": [],
   "source": [
    "indices = list()\n",
    "for i in range(10):\n",
    "    indices.append(np.where(labels == i)[0][0])"
   ]
  },
  {
   "cell_type": "code",
   "execution_count": 14,
   "id": "aa61b9b3",
   "metadata": {},
   "outputs": [
    {
     "name": "stdout",
     "output_type": "stream",
     "text": [
      "[1, 3, 5, 7, 2, 0, 13, 15, 17, 4]\n"
     ]
    }
   ],
   "source": [
    "print(indices)"
   ]
  },
  {
   "cell_type": "code",
   "execution_count": 33,
   "id": "ee1dbbc8",
   "metadata": {},
   "outputs": [
    {
     "data": {
      "image/png": "[encoded data removed]",
      "text/plain": [
       "<PIL.Image.Image image mode=L size=28x28 at 0x1BBC1CDA3A0>"
      ]
     },
     "execution_count": 33,
     "metadata": {},
     "output_type": "execute_result"
    }
   ],
   "source": [
    "mnist_im = mnist_trainset[0][0]\n",
    "mnist_arr = np.asarray(mnist_im)\n",
    "mnist_arr = np.invert(mnist_arr)\n",
    "im = Image.fromarray(mnist_arr)\n",
    "im"
   ]
  },
  {
   "cell_type": "code",
   "execution_count": 34,
   "id": "edb51a26",
   "metadata": {},
   "outputs": [],
   "source": [
    "fps = [f'../data/sample_mnist/image{i}.png' for i in range(10)]\n",
    "for i, fp in zip(indices, fps):\n",
    "    im = mnist_trainset[i][0]\n",
    "    mnist_arr = np.invert(np.asarray(im))\n",
    "    im2 = Image.fromarray(mnist_arr)\n",
    "    im2.save(fp)"
   ]
  }
 ],
 "metadata": {
  "kernelspec": {
   "display_name": "Python 3 (ipykernel)",
   "language": "python",
   "name": "python3"
  },
  "language_info": {
   "codemirror_mode": {
    "name": "ipython",
    "version": 3
   },
   "file_extension": ".py",
   "mimetype": "text/x-python",
   "name": "python",
   "nbconvert_exporter": "python",
   "pygments_lexer": "ipython3",
   "version": "3.9.12"
  }
 },
 "nbformat": 4,
 "nbformat_minor": 5
}
