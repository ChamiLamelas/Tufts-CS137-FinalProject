{
 "cells": [
  {
   "cell_type": "code",
   "execution_count": 1,
   "id": "06ab9191",
   "metadata": {},
   "outputs": [],
   "source": [
    "import torch\n",
    "import torch.nn as nn\n",
    "from vit_pytorch import ViT\n",
    "from graphs import Graph, prims\n",
    "import os\n",
    "import numpy as np\n",
    "import torchvision.models as models\n",
    "import torchvision.transforms as transforms\n",
    "from torchvision.models import ResNet18_Weights"
   ]
  },
  {
   "cell_type": "code",
   "execution_count": 2,
   "id": "dd9f41ae",
   "metadata": {},
   "outputs": [],
   "source": [
    "model = models.vit_b_16(weights=None)"
   ]
  },
  {
   "cell_type": "code",
   "execution_count": 3,
   "id": "191db194",
   "metadata": {},
   "outputs": [],
   "source": [
    "from tree_dataset import TreeDataset\n",
    "import model as m\n",
    "from torch.utils.data import DataLoader\n",
    "import os\n",
    "import torchvision.transforms as transforms\n",
    "from collections import OrderedDict"
   ]
  },
  {
   "cell_type": "code",
   "execution_count": 4,
   "id": "50723355",
   "metadata": {},
   "outputs": [
    {
     "name": "stdout",
     "output_type": "stream",
     "text": [
      "Train size: 4000 Val size: 2000\n",
      "Identified CUDA device: NVIDIA GeForce RTX 3060\n"
     ]
    }
   ],
   "source": [
    "train_set = TreeDataset(os.path.join('..', 'data', 'extra_variety_4k'), m.resnet_preprocess()) \n",
    "val_set = TreeDataset(os.path.join('..', 'data', 'extra_variety_2k'), m.resnet_preprocess()) \n",
    "print(f'Train size: {len(train_set)} Val size: {len(val_set)}')\n",
    "train_loader = DataLoader(train_set, batch_size=32)\n",
    "val_loader = DataLoader(val_set, batch_size=32)\n",
    "device = m.get_device()\n",
    "config = {'labels_key': 'digit_labels'}\n",
    "model.heads = nn.Sequential(OrderedDict([('head', nn.Linear(768, 10))]))\n",
    "model = model.to(device)"
   ]
  },
  {
   "cell_type": "code",
   "execution_count": 5,
   "id": "dceb92b4",
   "metadata": {},
   "outputs": [
    {
     "data": {
      "text/plain": [
       "tensor([[-0.6266,  0.4368, -0.7189,  0.0673, -0.9845,  0.0078, -0.5048,  0.3943,\n",
       "         -0.4504,  0.0396]], device='cuda:0', grad_fn=<AddmmBackward0>)"
      ]
     },
     "execution_count": 5,
     "metadata": {},
     "output_type": "execute_result"
    }
   ],
   "source": [
    "model(torch.unsqueeze(train_set[0]['image'], 0).to(device))"
   ]
  },
  {
   "cell_type": "code",
   "execution_count": 6,
   "id": "80e743ac",
   "metadata": {},
   "outputs": [
    {
     "name": "stdout",
     "output_type": "stream",
     "text": [
      "Epoch 10 done, train loss: 0.0288 val acc: 0.8170\n",
      "Epoch 20 done, train loss: 0.0166 val acc: 0.8800\n",
      "Epoch 30 done, train loss: 0.0167 val acc: 0.8340\n",
      "Epoch 40 done, train loss: 0.0265 val acc: 0.8835\n",
      "Epoch 50 done, train loss: 0.0027 val acc: 0.9095\n",
      "Epoch 60 done, train loss: 0.0057 val acc: 0.9165\n",
      "Epoch 70 done, train loss: 0.0101 val acc: 0.9040\n",
      "Epoch 80 done, train loss: 0.0001 val acc: 0.9470\n",
      "Epoch 90 done, train loss: 0.0000 val acc: 0.9470\n",
      "Epoch 100 done, train loss: 0.0000 val acc: 0.9475\n"
     ]
    }
   ],
   "source": [
    "m.train(model, 0.0001, 0, 100, train_loader, val_loader, device, os.path.join('..', 'models', 'untrained_torchvit'), None)"
   ]
  },
  {
   "cell_type": "code",
   "execution_count": 7,
   "id": "90270e94",
   "metadata": {},
   "outputs": [],
   "source": [
    "model = torch.load(os.path.join('..', 'models', 'untrained_torchvit', 'digit-model.pt'))"
   ]
  },
  {
   "cell_type": "code",
   "execution_count": null,
   "id": "2810249f",
   "metadata": {},
   "outputs": [],
   "source": [
    "train_acc = m.predict(model, train_loader, device, config, None)\n",
    "print(train_acc)"
   ]
  },
  {
   "cell_type": "code",
   "execution_count": null,
   "id": "07bdd37f",
   "metadata": {},
   "outputs": [],
   "source": [
    "val_acc = m.predict(model, val_loader, device, config, None)\n",
    "print(val_acc)"
   ]
  }
 ],
 "metadata": {
  "kernelspec": {
   "display_name": "Python 3 (ipykernel)",
   "language": "python",
   "name": "python3"
  },
  "language_info": {
   "codemirror_mode": {
    "name": "ipython",
    "version": 3
   },
   "file_extension": ".py",
   "mimetype": "text/x-python",
   "name": "python",
   "nbconvert_exporter": "python",
   "pygments_lexer": "ipython3",
   "version": "3.9.12"
  },
  "vscode": {
   "interpreter": {
    "hash": "335e3d3663586120ae3fe88292179d250920064d388246698088f699d86512e8"
   }
  }
 },
 "nbformat": 4,
 "nbformat_minor": 5
}
