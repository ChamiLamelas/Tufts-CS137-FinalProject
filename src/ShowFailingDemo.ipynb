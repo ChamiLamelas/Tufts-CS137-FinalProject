{
 "cells": [
  {
   "cell_type": "code",
   "execution_count": 1,
   "id": "219dc817",
   "metadata": {},
   "outputs": [],
   "source": [
    "import torch\n",
    "import torch.nn as nn\n",
    "from vit_pytorch import ViT\n",
    "from graphs import Graph, prims\n",
    "import os\n",
    "import numpy as np\n",
    "import torchvision.models as models\n",
    "import torchvision.transforms as transforms\n",
    "from torchvision.models import ResNet18_Weights\n",
    "from tree_dataset import TreeDataset\n",
    "import model as m\n",
    "from torch.utils.data import DataLoader\n",
    "from d2lvit import *\n",
    "import copy\n",
    "from collections import OrderedDict"
   ]
  },
  {
   "cell_type": "code",
   "execution_count": 2,
   "id": "44b98e0a",
   "metadata": {},
   "outputs": [
    {
     "name": "stdout",
     "output_type": "stream",
     "text": [
      "Train size: 50 Val size: 50\n",
      "Identified CUDA device: NVIDIA GeForce RTX 3060\n"
     ]
    }
   ],
   "source": [
    "train_set = TreeDataset(os.path.join('..', 'data', 'trainset2'), m.resnet_preprocess()) \n",
    "val_set = TreeDataset(os.path.join('..', 'data', 'trainset2'), m.resnet_preprocess())\n",
    "print(f'Train size: {len(train_set)} Val size: {len(val_set)}')\n",
    "train_loader = DataLoader(train_set, batch_size=16)\n",
    "val_loader = DataLoader(val_set, batch_size=16)\n",
    "device = m.get_device()\n",
    "config = {'labels_key': 'digit_labels'}"
   ]
  },
  {
   "cell_type": "code",
   "execution_count": 3,
   "id": "3490cd93",
   "metadata": {},
   "outputs": [],
   "source": [
    "model = m.untrained_digit_model().to(device)"
   ]
  },
  {
   "cell_type": "code",
   "execution_count": 4,
   "id": "f716ac42",
   "metadata": {},
   "outputs": [
    {
     "data": {
      "text/plain": [
       "tensor([[ 0.2651, -1.0415,  0.7215, -1.2902, -0.0291, -0.5805, -0.4742,  0.8961,\n",
       "          0.2115,  0.5787]], device='cuda:0', grad_fn=<AddmmBackward0>)"
      ]
     },
     "execution_count": 4,
     "metadata": {},
     "output_type": "execute_result"
    }
   ],
   "source": [
    "model(torch.unsqueeze(train_set[0]['image'], 0).to(device))"
   ]
  },
  {
   "cell_type": "markdown",
   "id": "b62f02f5",
   "metadata": {},
   "source": [
    "Can use with train or predict"
   ]
  },
  {
   "cell_type": "code",
   "execution_count": 5,
   "id": "8d0a5b4f",
   "metadata": {},
   "outputs": [
    {
     "name": "stdout",
     "output_type": "stream",
     "text": [
      "['tree_0', 'tree_2', 'tree_3', 'tree_4', 'tree_5', 'tree_6', 'tree_7', 'tree_8', 'tree_9', 'tree_10', 'tree_11', 'tree_12', 'tree_13', 'tree_14', 'tree_15']\n",
      "['tree_16', 'tree_17', 'tree_18', 'tree_19', 'tree_20', 'tree_21', 'tree_22', 'tree_24', 'tree_25', 'tree_26', 'tree_28', 'tree_29', 'tree_30', 'tree_31']\n",
      "['tree_32', 'tree_33', 'tree_34', 'tree_35', 'tree_36', 'tree_38', 'tree_39', 'tree_40', 'tree_41', 'tree_42', 'tree_43', 'tree_44', 'tree_45', 'tree_46', 'tree_47']\n",
      "['tree_48', 'tree_49']\n",
      "Epoch 10 done, train loss: 0.4975 val acc: 0.0800\n"
     ]
    }
   ],
   "source": [
    "m.train(model, 0.0001, 0, 10, train_loader, val_loader, device, os.path.join('..', 'models', 'testmodel'), None, True)"
   ]
  },
  {
   "cell_type": "code",
   "execution_count": 7,
   "id": "535b266e",
   "metadata": {},
   "outputs": [
    {
     "name": "stdout",
     "output_type": "stream",
     "text": [
      "['tree_0', 'tree_2', 'tree_3', 'tree_4', 'tree_5', 'tree_6', 'tree_7', 'tree_8', 'tree_9', 'tree_10', 'tree_11', 'tree_12', 'tree_13', 'tree_14', 'tree_15']\n",
      "['tree_16', 'tree_17', 'tree_18', 'tree_19', 'tree_20', 'tree_21', 'tree_22', 'tree_24', 'tree_25', 'tree_26', 'tree_28', 'tree_29', 'tree_30', 'tree_31']\n",
      "['tree_32', 'tree_33', 'tree_34', 'tree_35', 'tree_36', 'tree_38', 'tree_39', 'tree_40', 'tree_41', 'tree_42', 'tree_43', 'tree_44', 'tree_45', 'tree_46', 'tree_47']\n",
      "['tree_48', 'tree_49']\n"
     ]
    }
   ],
   "source": [
    "acc = m.predict(model, val_loader, device, config, None, True)"
   ]
  }
 ],
 "metadata": {
  "kernelspec": {
   "display_name": "Python 3 (ipykernel)",
   "language": "python",
   "name": "python3"
  },
  "language_info": {
   "codemirror_mode": {
    "name": "ipython",
    "version": 3
   },
   "file_extension": ".py",
   "mimetype": "text/x-python",
   "name": "python",
   "nbconvert_exporter": "python",
   "pygments_lexer": "ipython3",
   "version": "3.9.12"
  }
 },
 "nbformat": 4,
 "nbformat_minor": 5
}
