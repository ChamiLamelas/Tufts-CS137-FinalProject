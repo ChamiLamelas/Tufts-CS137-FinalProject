{
 "cells": [
  {
   "cell_type": "code",
   "execution_count": 1,
   "id": "61bbde74",
   "metadata": {},
   "outputs": [],
   "source": [
    "import torch\n",
    "import torch.nn as nn\n",
    "from vit_pytorch import ViT\n",
    "from graphs import Graph, prims\n",
    "import os\n",
    "import numpy as np\n",
    "import torchvision.models as models\n",
    "import torchvision.transforms as transforms\n",
    "from torchvision.models import ResNet18_Weights\n",
    "from tree_dataset import TreeDataset\n",
    "import model as m\n",
    "from torch.utils.data import DataLoader\n",
    "from d2lvit import *\n",
    "import copy\n",
    "from collections import OrderedDict"
   ]
  },
  {
   "cell_type": "code",
   "execution_count": 2,
   "id": "b106b5ad",
   "metadata": {},
   "outputs": [],
   "source": [
    "model = torch.load(os.path.join('..', 'models', 'finetune_super3', 'digit-model.pt'))"
   ]
  },
  {
   "cell_type": "code",
   "execution_count": 3,
   "id": "04094f59",
   "metadata": {},
   "outputs": [
    {
     "name": "stdout",
     "output_type": "stream",
     "text": [
      "Train size: 4000 Val size: 1000\n",
      "Identified CUDA device: NVIDIA GeForce RTX 3060\n"
     ]
    }
   ],
   "source": [
    "train_set = TreeDataset(os.path.join('..', 'data', 'super_variety_4k'), transforms.Compose([\n",
    "    transforms.RandAugment(),\n",
    "    m.resnet_preprocess()\n",
    "]))\n",
    "val_set = TreeDataset(os.path.join('..', 'data', 'super_variety_1k'), m.resnet_preprocess()) \n",
    "print(f'Train size: {len(train_set)} Val size: {len(val_set)}')\n",
    "train_loader = DataLoader(train_set, batch_size=32)\n",
    "val_loader = DataLoader(val_set, batch_size=32)\n",
    "device = m.get_device()\n",
    "config = {'labels_key': 'digit_labels'}"
   ]
  },
  {
   "cell_type": "code",
   "execution_count": 4,
   "id": "691aa528",
   "metadata": {},
   "outputs": [
    {
     "name": "stdout",
     "output_type": "stream",
     "text": [
      "0.85525\n"
     ]
    }
   ],
   "source": [
    "train_acc = m.predict(model, train_loader, device, config, None)\n",
    "print(train_acc)"
   ]
  },
  {
   "cell_type": "code",
   "execution_count": 5,
   "id": "5de0448b",
   "metadata": {},
   "outputs": [
    {
     "name": "stdout",
     "output_type": "stream",
     "text": [
      "0.857\n"
     ]
    }
   ],
   "source": [
    "val_acc = m.predict(model, val_loader, device, config, None)\n",
    "print(val_acc)"
   ]
  },
  {
   "cell_type": "code",
   "execution_count": 6,
   "id": "6eeaa4f2",
   "metadata": {},
   "outputs": [],
   "source": [
    "digits_model = copy.deepcopy(model)"
   ]
  },
  {
   "cell_type": "code",
   "execution_count": 7,
   "id": "1527bb4e",
   "metadata": {},
   "outputs": [],
   "source": [
    "model.heads = nn.Sequential(OrderedDict([('head', nn.Linear(768, 45))]))\n",
    "model = model.to(device)"
   ]
  },
  {
   "cell_type": "code",
   "execution_count": 8,
   "id": "dfc0e3ce",
   "metadata": {},
   "outputs": [
    {
     "data": {
      "text/plain": [
       "tensor([[ 0.5921, -0.3702,  0.0625,  0.0472, -0.0136,  0.9181, -0.1674,  0.1637,\n",
       "         -0.3269, -0.0237, -0.2246,  0.4781, -0.1143,  0.3735,  0.7475, -0.5257,\n",
       "          0.1460,  0.2912,  0.9398,  0.2868, -0.1353,  0.2743, -0.2618, -0.2068,\n",
       "         -0.2620, -0.1315, -0.2012, -0.7385,  0.1504,  0.1457,  0.2571, -0.5673,\n",
       "         -0.9958, -0.2312,  0.6248,  0.2130, -0.1281, -0.2305, -0.2011, -0.3228,\n",
       "         -0.0362, -0.4088, -0.1373,  0.7346, -0.9438]], device='cuda:0',\n",
       "       grad_fn=<AddmmBackward0>)"
      ]
     },
     "execution_count": 8,
     "metadata": {},
     "output_type": "execute_result"
    }
   ],
   "source": [
    "model(torch.unsqueeze(train_set[0]['image'], 0).to(device))"
   ]
  },
  {
   "cell_type": "code",
   "execution_count": null,
   "id": "ecde01d1",
   "metadata": {
    "scrolled": true
   },
   "outputs": [
    {
     "name": "stdout",
     "output_type": "stream",
     "text": [
      "Epoch 10 done, train loss: 0.0489 val acc: 0.8190\n",
      "Epoch 20 done, train loss: 0.0350 val acc: 0.8370\n"
     ]
    }
   ],
   "source": [
    "m.train(model, 0.0001, 0, 50, train_loader, val_loader, device, os.path.join('..', 'models', 'finetune_super3'), digits_model)"
   ]
  },
  {
   "cell_type": "code",
   "execution_count": null,
   "id": "e2c3af05",
   "metadata": {},
   "outputs": [],
   "source": [
    "model = torch.load(os.path.join('..', 'models', 'finetune_super3', 'tree-model.pt'))\n",
    "final_model = torch.load(os.path.join('..', 'models', 'finetune_super3', 'final-tree-model.pt'))"
   ]
  },
  {
   "cell_type": "code",
   "execution_count": null,
   "id": "349f3177",
   "metadata": {},
   "outputs": [],
   "source": [
    "config = {'labels_key': 'tree_label'}\n",
    "train_acc = m.predict(model, train_loader, device, config, digits_model)\n",
    "print(train_acc)"
   ]
  },
  {
   "cell_type": "code",
   "execution_count": null,
   "id": "828f3f36",
   "metadata": {},
   "outputs": [],
   "source": [
    "val_acc = m.predict(model, val_loader, device, config, digits_model)\n",
    "print(val_acc)"
   ]
  },
  {
   "cell_type": "code",
   "execution_count": null,
   "id": "fe2d65dc",
   "metadata": {},
   "outputs": [],
   "source": [
    "final_train_acc = m.predict(final_model, train_loader, device, config, digits_model)\n",
    "print(final_train_acc)"
   ]
  },
  {
   "cell_type": "code",
   "execution_count": null,
   "id": "23b56edc",
   "metadata": {},
   "outputs": [],
   "source": [
    "final_val_acc = m.predict(final_model, val_loader, device, config, digits_model)\n",
    "print(final_val_acc)"
   ]
  },
  {
   "cell_type": "code",
   "execution_count": null,
   "id": "4f6ffedd",
   "metadata": {
    "scrolled": true
   },
   "outputs": [],
   "source": [
    "import matplotlib.pyplot as plt\n",
    "train_loss = np.load(os.path.join('..', 'models', 'finetune_super3', 'tree_train_loss.npy'))\n",
    "val_acc = np.load(os.path.join('..', 'models', 'finetune_super3', 'tree_val_acc.npy'))\n",
    "epochs = np.arange(1, train_loss.shape[0]+1)\n",
    "plt.plot(epochs, train_loss, label='loss')\n",
    "plt.plot(epochs, val_acc, label='acc')\n",
    "plt.legend()\n",
    "plt.show()\n",
    "print(train_loss[:10])"
   ]
  }
 ],
 "metadata": {
  "kernelspec": {
   "display_name": "Python 3 (ipykernel)",
   "language": "python",
   "name": "python3"
  },
  "language_info": {
   "codemirror_mode": {
    "name": "ipython",
    "version": 3
   },
   "file_extension": ".py",
   "mimetype": "text/x-python",
   "name": "python",
   "nbconvert_exporter": "python",
   "pygments_lexer": "ipython3",
   "version": "3.9.12"
  }
 },
 "nbformat": 4,
 "nbformat_minor": 5
}
