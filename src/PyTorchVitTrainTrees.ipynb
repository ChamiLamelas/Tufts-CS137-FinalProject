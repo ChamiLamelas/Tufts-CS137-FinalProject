{
 "cells": [
  {
   "cell_type": "code",
   "execution_count": 1,
   "id": "61bbde74",
   "metadata": {},
   "outputs": [],
   "source": [
    "import torch\n",
    "import torch.nn as nn\n",
    "from vit_pytorch import ViT\n",
    "from graphs import Graph, prims\n",
    "import os\n",
    "import numpy as np\n",
    "import torchvision.models as models\n",
    "import torchvision.transforms as transforms\n",
    "from torchvision.models import ResNet18_Weights\n",
    "from tree_dataset import TreeDataset\n",
    "import model as m\n",
    "from torch.utils.data import DataLoader\n",
    "from d2lvit import *\n",
    "import copy\n",
    "from collections import OrderedDict"
   ]
  },
  {
   "cell_type": "code",
   "execution_count": 2,
   "id": "b106b5ad",
   "metadata": {},
   "outputs": [],
   "source": [
    "model = torch.load(os.path.join('..', 'models', 'finetune_super4', 'digit-model.pt'))"
   ]
  },
  {
   "cell_type": "code",
   "execution_count": 3,
   "id": "04094f59",
   "metadata": {},
   "outputs": [
    {
     "name": "stdout",
     "output_type": "stream",
     "text": [
      "Train size: 4000 Val size: 1000\n",
      "Identified CUDA device: NVIDIA GeForce RTX 3060\n"
     ]
    }
   ],
   "source": [
    "train_set = TreeDataset(os.path.join('..', 'data', 'super_variety_4k'), transforms.Compose([\n",
    "    transforms.RandAugment(),\n",
    "    m.resnet_preprocess()\n",
    "]))\n",
    "val_set = TreeDataset(os.path.join('..', 'data', 'super_variety_1k'), m.resnet_preprocess()) \n",
    "print(f'Train size: {len(train_set)} Val size: {len(val_set)}')\n",
    "train_loader = DataLoader(train_set, batch_size=32)\n",
    "val_loader = DataLoader(val_set, batch_size=32)\n",
    "device = m.get_device()\n",
    "config = {'labels_key': 'digit_labels'}"
   ]
  },
  {
   "cell_type": "code",
   "execution_count": 4,
   "id": "691aa528",
   "metadata": {},
   "outputs": [
    {
     "name": "stdout",
     "output_type": "stream",
     "text": [
      "0.87175\n"
     ]
    }
   ],
   "source": [
    "train_acc = m.predict(model, train_loader, device, config, None)\n",
    "print(train_acc)"
   ]
  },
  {
   "cell_type": "code",
   "execution_count": 5,
   "id": "5de0448b",
   "metadata": {},
   "outputs": [
    {
     "name": "stdout",
     "output_type": "stream",
     "text": [
      "0.849\n"
     ]
    }
   ],
   "source": [
    "val_acc = m.predict(model, val_loader, device, config, None)\n",
    "print(val_acc)"
   ]
  },
  {
   "cell_type": "code",
   "execution_count": 6,
   "id": "6eeaa4f2",
   "metadata": {},
   "outputs": [],
   "source": [
    "digits_model = copy.deepcopy(model)"
   ]
  },
  {
   "cell_type": "code",
   "execution_count": 7,
   "id": "1527bb4e",
   "metadata": {},
   "outputs": [],
   "source": [
    "model.heads = nn.Sequential(OrderedDict([('head', nn.Linear(768, 45))]))\n",
    "model = model.to(device)"
   ]
  },
  {
   "cell_type": "code",
   "execution_count": 8,
   "id": "dfc0e3ce",
   "metadata": {},
   "outputs": [
    {
     "data": {
      "text/plain": [
       "tensor([[ 0.2266, -0.0316, -0.0479, -0.0268,  0.3805, -0.0312, -0.2064, -0.0470,\n",
       "          0.2921,  0.0760, -0.0394,  0.5173, -0.0969, -0.3520,  0.0441, -0.1322,\n",
       "         -0.3370,  0.1313,  0.1554, -0.0340, -0.2300, -0.5182,  0.4855, -0.4780,\n",
       "          0.0265, -0.2900,  0.2330, -0.1694,  0.1493, -0.0590,  0.1844, -0.3627,\n",
       "          0.4349, -0.1555, -0.1484,  0.3429,  0.1094, -0.0819, -0.2638,  0.2380,\n",
       "         -0.2061, -0.1829, -0.0901,  0.1684,  0.1263]], device='cuda:0',\n",
       "       grad_fn=<AddmmBackward0>)"
      ]
     },
     "execution_count": 8,
     "metadata": {},
     "output_type": "execute_result"
    }
   ],
   "source": [
    "model(torch.unsqueeze(train_set[0]['image'], 0).to(device))"
   ]
  },
  {
   "cell_type": "code",
   "execution_count": 9,
   "id": "ecde01d1",
   "metadata": {
    "scrolled": true
   },
   "outputs": [
    {
     "name": "stdout",
     "output_type": "stream",
     "text": [
      "Epoch 10 done, train loss: 0.0486 val acc: 0.7970\n",
      "Epoch 20 done, train loss: 0.0351 val acc: 0.8260\n",
      "Epoch 30 done, train loss: 0.0290 val acc: 0.8410\n",
      "Epoch 40 done, train loss: 0.0266 val acc: 0.8370\n",
      "Epoch 50 done, train loss: 0.0237 val acc: 0.8410\n",
      "Epoch 60 done, train loss: 0.0212 val acc: 0.8430\n",
      "Epoch 70 done, train loss: 0.0218 val acc: 0.8390\n",
      "Epoch 80 done, train loss: 0.0193 val acc: 0.8400\n",
      "Epoch 90 done, train loss: 0.0189 val acc: 0.8400\n",
      "Epoch 100 done, train loss: 0.0165 val acc: 0.8360\n"
     ]
    }
   ],
   "source": [
    "m.train(model, 0.0001, 0, 100, train_loader, val_loader, device, os.path.join('..', 'models', 'finetune_super4'), digits_model)"
   ]
  },
  {
   "cell_type": "code",
   "execution_count": 10,
   "id": "e2c3af05",
   "metadata": {},
   "outputs": [],
   "source": [
    "model = torch.load(os.path.join('..', 'models', 'finetune_super4', 'tree-model.pt'))\n",
    "final_model = torch.load(os.path.join('..', 'models', 'finetune_super4', 'final-tree-model.pt'))"
   ]
  },
  {
   "cell_type": "code",
   "execution_count": 11,
   "id": "349f3177",
   "metadata": {},
   "outputs": [
    {
     "name": "stdout",
     "output_type": "stream",
     "text": [
      "0.8725\n"
     ]
    }
   ],
   "source": [
    "config = {'labels_key': 'tree_label'}\n",
    "train_acc = m.predict(model, train_loader, device, config, digits_model)\n",
    "print(train_acc)"
   ]
  },
  {
   "cell_type": "code",
   "execution_count": 12,
   "id": "828f3f36",
   "metadata": {},
   "outputs": [
    {
     "name": "stdout",
     "output_type": "stream",
     "text": [
      "0.847\n"
     ]
    }
   ],
   "source": [
    "val_acc = m.predict(model, val_loader, device, config, digits_model)\n",
    "print(val_acc)"
   ]
  },
  {
   "cell_type": "code",
   "execution_count": 13,
   "id": "e16d54ad",
   "metadata": {},
   "outputs": [
    {
     "name": "stdout",
     "output_type": "stream",
     "text": [
      "0.8715\n"
     ]
    }
   ],
   "source": [
    "final_train_acc = m.predict(final_model, train_loader, device, config, digits_model)\n",
    "print(final_train_acc)"
   ]
  },
  {
   "cell_type": "code",
   "execution_count": 14,
   "id": "bdae0593",
   "metadata": {},
   "outputs": [
    {
     "name": "stdout",
     "output_type": "stream",
     "text": [
      "0.836\n"
     ]
    }
   ],
   "source": [
    "final_val_acc = m.predict(final_model, val_loader, device, config, digits_model)\n",
    "print(final_val_acc)"
   ]
  },
  {
   "cell_type": "code",
   "execution_count": 15,
   "id": "fd2c4386",
   "metadata": {
    "scrolled": true
   },
   "outputs": [
    {
     "data": {
      "image/png": "[encoded data removed]",
      "text/plain": [
       "<Figure size 640x480 with 1 Axes>"
      ]
     },
     "metadata": {},
     "output_type": "display_data"
    },
    {
     "name": "stdout",
     "output_type": "stream",
     "text": [
      "[0.22508839 0.1276278  0.09516783 0.08096132 0.07255697 0.0649207\n",
      " 0.05962353 0.05460146 0.05122237 0.04858057]\n"
     ]
    }
   ],
   "source": [
    "import matplotlib.pyplot as plt\n",
    "train_loss = np.load(os.path.join('..', 'models', 'finetune_super4', 'tree_train_loss.npy'))\n",
    "val_acc = np.load(os.path.join('..', 'models', 'finetune_super4', 'tree_val_acc.npy'))\n",
    "epochs = np.arange(1, train_loss.shape[0]+1)\n",
    "plt.plot(epochs, train_loss, label='loss')\n",
    "plt.plot(epochs, val_acc, label='acc')\n",
    "plt.legend()\n",
    "plt.show()\n",
    "print(train_loss[:10])"
   ]
  }
 ],
 "metadata": {
  "kernelspec": {
   "display_name": "Python 3 (ipykernel)",
   "language": "python",
   "name": "python3"
  },
  "language_info": {
   "codemirror_mode": {
    "name": "ipython",
    "version": 3
   },
   "file_extension": ".py",
   "mimetype": "text/x-python",
   "name": "python",
   "nbconvert_exporter": "python",
   "pygments_lexer": "ipython3",
   "version": "3.9.12"
  }
 },
 "nbformat": 4,
 "nbformat_minor": 5
}
