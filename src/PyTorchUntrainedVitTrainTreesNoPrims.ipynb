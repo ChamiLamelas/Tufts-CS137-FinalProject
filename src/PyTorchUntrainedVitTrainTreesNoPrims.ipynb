{
 "cells": [
  {
   "cell_type": "code",
   "execution_count": 1,
   "id": "61bbde74",
   "metadata": {},
   "outputs": [],
   "source": [
    "import torch\n",
    "import torch.nn as nn\n",
    "from vit_pytorch import ViT\n",
    "from graphs import Graph, prims\n",
    "import os\n",
    "import numpy as np\n",
    "import torchvision.models as models\n",
    "import torchvision.transforms as transforms\n",
    "from torchvision.models import ResNet18_Weights\n",
    "from tree_dataset import TreeDataset\n",
    "import model as m\n",
    "from torch.utils.data import DataLoader\n",
    "from d2lvit import *\n",
    "import copy\n",
    "from collections import OrderedDict"
   ]
  },
  {
   "cell_type": "code",
   "execution_count": 2,
   "id": "b106b5ad",
   "metadata": {},
   "outputs": [],
   "source": [
    "model = torch.load(os.path.join('..', 'models', 'untrained_torchvit', 'digit-model.pt'))"
   ]
  },
  {
   "cell_type": "code",
   "execution_count": 3,
   "id": "04094f59",
   "metadata": {},
   "outputs": [
    {
     "name": "stdout",
     "output_type": "stream",
     "text": [
      "Train size: 4000 Val size: 2000\n",
      "Identified CUDA device: NVIDIA GeForce RTX 3060\n"
     ]
    }
   ],
   "source": [
    "train_set = TreeDataset(os.path.join('..', 'data', 'extra_variety_4k'), m.resnet_preprocess()) \n",
    "val_set = TreeDataset(os.path.join('..', 'data', 'extra_variety_2k'), m.resnet_preprocess()) \n",
    "print(f'Train size: {len(train_set)} Val size: {len(val_set)}')\n",
    "train_loader = DataLoader(train_set, batch_size=32)\n",
    "val_loader = DataLoader(val_set, batch_size=32)\n",
    "device = m.get_device()\n",
    "config = {'labels_key': 'digit_labels'}"
   ]
  },
  {
   "cell_type": "code",
   "execution_count": 4,
   "id": "691aa528",
   "metadata": {},
   "outputs": [
    {
     "name": "stdout",
     "output_type": "stream",
     "text": [
      "1.0\n"
     ]
    }
   ],
   "source": [
    "train_acc = m.predict(model, train_loader, device, config, None)\n",
    "print(train_acc)"
   ]
  },
  {
   "cell_type": "code",
   "execution_count": 5,
   "id": "5de0448b",
   "metadata": {},
   "outputs": [
    {
     "name": "stdout",
     "output_type": "stream",
     "text": [
      "0.949\n"
     ]
    }
   ],
   "source": [
    "val_acc = m.predict(model, val_loader, device, config, None)\n",
    "print(val_acc)"
   ]
  },
  {
   "cell_type": "code",
   "execution_count": 6,
   "id": "6eeaa4f2",
   "metadata": {},
   "outputs": [],
   "source": [
    "digits_model = copy.deepcopy(model)"
   ]
  },
  {
   "cell_type": "code",
   "execution_count": 7,
   "id": "1527bb4e",
   "metadata": {},
   "outputs": [],
   "source": [
    "model.heads = nn.Sequential(OrderedDict([('head', nn.Linear(768, 45))]))\n",
    "model = model.to(device)"
   ]
  },
  {
   "cell_type": "code",
   "execution_count": 8,
   "id": "dfc0e3ce",
   "metadata": {},
   "outputs": [
    {
     "data": {
      "text/plain": [
       "tensor([[ 0.5526, -0.6681, -0.7577,  0.2164,  0.3682, -1.1499,  0.3463, -0.7079,\n",
       "         -0.1652,  0.2435, -0.3830, -0.1657, -1.4728, -1.3349, -0.5495, -0.2955,\n",
       "          0.6322,  0.1923,  0.7365, -0.4278,  0.1388, -0.7619,  0.4257,  0.7028,\n",
       "          0.1806, -0.0485, -0.2082, -1.1656, -0.1419, -1.0007, -0.2682,  0.1478,\n",
       "         -1.2013,  0.6380,  0.2971,  0.9242, -0.7511, -0.0979, -0.4066, -0.1344,\n",
       "          0.6459,  0.0149, -0.4649,  0.3968,  1.0637]], device='cuda:0',\n",
       "       grad_fn=<AddmmBackward0>)"
      ]
     },
     "execution_count": 8,
     "metadata": {},
     "output_type": "execute_result"
    }
   ],
   "source": [
    "model(torch.unsqueeze(train_set[0]['image'], 0).to(device))"
   ]
  },
  {
   "cell_type": "code",
   "execution_count": 9,
   "id": "ecde01d1",
   "metadata": {
    "scrolled": false
   },
   "outputs": [
    {
     "name": "stdout",
     "output_type": "stream",
     "text": [
      "Epoch 10 done, train loss: 0.0004 val acc: 0.9500\n",
      "Epoch 20 done, train loss: 0.0001 val acc: 0.9520\n",
      "Epoch 30 done, train loss: 0.0000 val acc: 0.9510\n",
      "Epoch 40 done, train loss: 0.0000 val acc: 0.9495\n",
      "Epoch 50 done, train loss: 0.0000 val acc: 0.9490\n",
      "Epoch 60 done, train loss: 0.0000 val acc: 0.9490\n",
      "Epoch 70 done, train loss: 0.0000 val acc: 0.9485\n",
      "Epoch 80 done, train loss: 0.0000 val acc: 0.9475\n",
      "Epoch 90 done, train loss: 0.0000 val acc: 0.9460\n",
      "Epoch 100 done, train loss: 0.0000 val acc: 0.9460\n"
     ]
    }
   ],
   "source": [
    "m.train(model, 0.0001, 0, 100, train_loader, val_loader, device, os.path.join('..', 'models', 'untrained_torchvit_noprims'), digits_model, False, False)"
   ]
  },
  {
   "cell_type": "code",
   "execution_count": 10,
   "id": "a8115988",
   "metadata": {},
   "outputs": [],
   "source": [
    "model = torch.load(os.path.join('..', 'models', 'untrained_torchvit_noprims', 'tree-model.pt'))"
   ]
  },
  {
   "cell_type": "code",
   "execution_count": 11,
   "id": "b5bf51b3",
   "metadata": {},
   "outputs": [
    {
     "name": "stdout",
     "output_type": "stream",
     "text": [
      "1.0\n"
     ]
    }
   ],
   "source": [
    "config = {'labels_key': 'tree_label'}\n",
    "train_acc = m.predict(model, train_loader, device, config, digits_model, False, False)\n",
    "print(train_acc)"
   ]
  },
  {
   "cell_type": "code",
   "execution_count": 12,
   "id": "11a175aa",
   "metadata": {},
   "outputs": [
    {
     "name": "stdout",
     "output_type": "stream",
     "text": [
      "0.952\n"
     ]
    }
   ],
   "source": [
    "val_acc = m.predict(model, val_loader, device, config, digits_model, False, False)\n",
    "print(val_acc)"
   ]
  }
 ],
 "metadata": {
  "kernelspec": {
   "display_name": "Python 3 (ipykernel)",
   "language": "python",
   "name": "python3"
  },
  "language_info": {
   "codemirror_mode": {
    "name": "ipython",
    "version": 3
   },
   "file_extension": ".py",
   "mimetype": "text/x-python",
   "name": "python",
   "nbconvert_exporter": "python",
   "pygments_lexer": "ipython3",
   "version": "3.9.12"
  }
 },
 "nbformat": 4,
 "nbformat_minor": 5
}
