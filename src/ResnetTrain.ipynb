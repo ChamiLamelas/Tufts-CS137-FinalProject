{
 "cells": [
  {
   "cell_type": "code",
   "execution_count": 1,
   "id": "c981cc0a",
   "metadata": {},
   "outputs": [],
   "source": [
    "from tree_dataset import TreeDataset\n",
    "from model import *\n",
    "from torch.utils.data import DataLoader\n",
    "import os\n",
    "import time"
   ]
  },
  {
   "cell_type": "code",
   "execution_count": 2,
   "id": "ba2ec81d",
   "metadata": {
    "scrolled": true
   },
   "outputs": [
    {
     "name": "stdout",
     "output_type": "stream",
     "text": [
      "Train size: 2000 Val size: 1000\n",
      "Identified CUDA device: NVIDIA GeForce RTX 3060\n"
     ]
    },
    {
     "name": "stderr",
     "output_type": "stream",
     "text": [
      "Using cache found in C:\\Users\\chami/.cache\\torch\\hub\\pytorch_vision_v0.10.0\n"
     ]
    }
   ],
   "source": [
    "preprocess = resnet_preprocess()\n",
    "train_set = TreeDataset(os.path.join('..', 'data', 'trainset4'), preprocess) \n",
    "val_set = TreeDataset(os.path.join('..', 'data', 'trainset1'), preprocess)\n",
    "print(f'Train size: {len(train_set)} Val size: {len(val_set)}')\n",
    "train_loader = DataLoader(train_set, batch_size=32)\n",
    "val_loader = DataLoader(val_set, batch_size=32)\n",
    "device = get_device()\n",
    "config = {'labels_key': 'digit_labels'}\n",
    "newmodel = pretrained_resnet_model()\n",
    "make_resnet_model(newmodel)\n",
    "newmodel = newmodel.to(device)"
   ]
  },
  {
   "cell_type": "code",
   "execution_count": 3,
   "id": "b42da426",
   "metadata": {
    "scrolled": true
   },
   "outputs": [
    {
     "name": "stdout",
     "output_type": "stream",
     "text": [
      "Epoch 10 done, train loss: 0.0019 val acc: 1.0000\n",
      "Epoch 20 done, train loss: 0.0006 val acc: 1.0000\n",
      "Epoch 30 done, train loss: 0.0003 val acc: 1.0000\n",
      "Epoch 40 done, train loss: 0.0002 val acc: 1.0000\n",
      "Epoch 50 done, train loss: 0.0001 val acc: 1.0000\n",
      "Epoch 60 done, train loss: 0.0001 val acc: 1.0000\n",
      "Epoch 70 done, train loss: 0.0001 val acc: 1.0000\n",
      "Epoch 80 done, train loss: 0.0000 val acc: 1.0000\n",
      "Epoch 90 done, train loss: 0.0000 val acc: 1.0000\n",
      "Epoch 100 done, train loss: 0.0000 val acc: 1.0000\n",
      "37m 39s\n"
     ]
    }
   ],
   "source": [
    "ti = time.time()\n",
    "train(newmodel, 0.0001, 0, 100, train_loader, val_loader, device, os.path.join('..', 'models', 'resnet'), None)\n",
    "tf = time.time()\n",
    "nice_time_print(tf - ti)"
   ]
  },
  {
   "cell_type": "code",
   "execution_count": 4,
   "id": "7e342640",
   "metadata": {},
   "outputs": [
    {
     "name": "stdout",
     "output_type": "stream",
     "text": [
      "1.0\n"
     ]
    }
   ],
   "source": [
    "train_acc = predict(newmodel, train_loader, device, config, None)\n",
    "print(train_acc)"
   ]
  },
  {
   "cell_type": "code",
   "execution_count": 5,
   "id": "7ea5ab32",
   "metadata": {},
   "outputs": [
    {
     "name": "stdout",
     "output_type": "stream",
     "text": [
      "1.0\n"
     ]
    }
   ],
   "source": [
    "val_acc = predict(newmodel, val_loader, device, config, None)\n",
    "print(val_acc)"
   ]
  }
 ],
 "metadata": {
  "kernelspec": {
   "display_name": "Python 3 (ipykernel)",
   "language": "python",
   "name": "python3"
  },
  "language_info": {
   "codemirror_mode": {
    "name": "ipython",
    "version": 3
   },
   "file_extension": ".py",
   "mimetype": "text/x-python",
   "name": "python",
   "nbconvert_exporter": "python",
   "pygments_lexer": "ipython3",
   "version": "3.9.12"
  }
 },
 "nbformat": 4,
 "nbformat_minor": 5
}
