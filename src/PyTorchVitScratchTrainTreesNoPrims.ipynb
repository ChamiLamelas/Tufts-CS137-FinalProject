{
 "cells": [
  {
   "cell_type": "code",
   "execution_count": 1,
   "id": "61bbde74",
   "metadata": {},
   "outputs": [],
   "source": [
    "import torch\n",
    "import torch.nn as nn\n",
    "from vit_pytorch import ViT\n",
    "from graphs import Graph, prims\n",
    "import os\n",
    "import numpy as np\n",
    "import torchvision.models as models\n",
    "import torchvision.transforms as transforms\n",
    "from torchvision.models import ResNet18_Weights\n",
    "from tree_dataset import TreeDataset\n",
    "import model as m\n",
    "from torch.utils.data import DataLoader\n",
    "from d2lvit import *\n",
    "import copy\n",
    "from collections import OrderedDict"
   ]
  },
  {
   "cell_type": "code",
   "execution_count": 2,
   "id": "b106b5ad",
   "metadata": {},
   "outputs": [],
   "source": [
    "unused_digit_model = nn.Linear(1,1)"
   ]
  },
  {
   "cell_type": "code",
   "execution_count": 3,
   "id": "04094f59",
   "metadata": {},
   "outputs": [
    {
     "name": "stdout",
     "output_type": "stream",
     "text": [
      "Train size: 4000 Val size: 2000\n",
      "Identified CUDA device: NVIDIA GeForce RTX 3060\n"
     ]
    }
   ],
   "source": [
    "train_set = TreeDataset(os.path.join('..', 'data', 'extra_variety_4k'), m.resnet_preprocess()) \n",
    "val_set = TreeDataset(os.path.join('..', 'data', 'extra_variety_2k'), m.resnet_preprocess()) \n",
    "print(f'Train size: {len(train_set)} Val size: {len(val_set)}')\n",
    "train_loader = DataLoader(train_set, batch_size=32)\n",
    "val_loader = DataLoader(val_set, batch_size=32)\n",
    "device = m.get_device()"
   ]
  },
  {
   "cell_type": "code",
   "execution_count": 4,
   "id": "d840ee87",
   "metadata": {},
   "outputs": [],
   "source": [
    "model = models.vit_b_16(weights=\"ViT_B_16_Weights.IMAGENET1K_V1\")"
   ]
  },
  {
   "cell_type": "code",
   "execution_count": 5,
   "id": "1527bb4e",
   "metadata": {},
   "outputs": [],
   "source": [
    "model.heads = nn.Sequential(OrderedDict([('head', nn.Linear(768, 45))]))\n",
    "model = model.to(device)"
   ]
  },
  {
   "cell_type": "code",
   "execution_count": 6,
   "id": "dfc0e3ce",
   "metadata": {},
   "outputs": [
    {
     "data": {
      "text/plain": [
       "tensor([[-0.1356,  0.3515,  0.2299,  0.0983, -0.2027,  0.1818, -0.1348, -0.0159,\n",
       "         -0.3947, -0.4792, -0.0490,  0.3720,  0.0714, -0.2446,  0.2968,  0.5886,\n",
       "         -0.5627, -0.2200, -0.1116, -0.7799,  0.7426, -0.0468, -0.0398, -0.5055,\n",
       "          0.0103, -0.2745, -0.2472, -0.4506,  0.4544,  0.2546,  0.1421, -0.1624,\n",
       "          0.1161,  0.0595,  0.9386, -0.0024, -0.2661, -0.2394,  0.3706,  0.5595,\n",
       "          0.1716, -0.5610,  0.0358, -0.1817, -0.2941]], device='cuda:0',\n",
       "       grad_fn=<AddmmBackward0>)"
      ]
     },
     "execution_count": 6,
     "metadata": {},
     "output_type": "execute_result"
    }
   ],
   "source": [
    "model(torch.unsqueeze(train_set[0]['image'], 0).to(device))"
   ]
  },
  {
   "cell_type": "code",
   "execution_count": 7,
   "id": "ecde01d1",
   "metadata": {
    "scrolled": true
   },
   "outputs": [
    {
     "name": "stdout",
     "output_type": "stream",
     "text": [
      "Epoch 10 done, train loss: 0.0009 val acc: 1.0000\n",
      "Epoch 20 done, train loss: 0.0002 val acc: 1.0000\n",
      "Epoch 30 done, train loss: 0.0001 val acc: 1.0000\n",
      "Epoch 40 done, train loss: 0.0000 val acc: 1.0000\n",
      "Epoch 50 done, train loss: 0.0000 val acc: 1.0000\n",
      "Epoch 60 done, train loss: 0.0000 val acc: 1.0000\n",
      "Epoch 70 done, train loss: 0.0000 val acc: 1.0000\n",
      "Epoch 80 done, train loss: 0.0000 val acc: 1.0000\n",
      "Epoch 90 done, train loss: 0.0000 val acc: 1.0000\n",
      "Epoch 100 done, train loss: 0.0000 val acc: 1.0000\n"
     ]
    }
   ],
   "source": [
    "m.train(model, 0.0001, 0, 100, train_loader, val_loader, device, os.path.join('..', 'models', 'finetune_scratchtrees'), unused_digit_model, False, False)"
   ]
  },
  {
   "cell_type": "code",
   "execution_count": 8,
   "id": "fa7ddd6f",
   "metadata": {},
   "outputs": [],
   "source": [
    "model = torch.load(os.path.join('..', 'models', 'finetune_scratchtrees', 'tree-model.pt'))"
   ]
  },
  {
   "cell_type": "code",
   "execution_count": 9,
   "id": "e5a7e3ef",
   "metadata": {},
   "outputs": [
    {
     "name": "stdout",
     "output_type": "stream",
     "text": [
      "1.0\n"
     ]
    }
   ],
   "source": [
    "config = {'labels_key': 'tree_label'}\n",
    "train_acc = m.predict(model, train_loader, device, config, unused_digit_model, False, False)\n",
    "print(train_acc)"
   ]
  },
  {
   "cell_type": "code",
   "execution_count": 10,
   "id": "e705c330",
   "metadata": {},
   "outputs": [
    {
     "name": "stdout",
     "output_type": "stream",
     "text": [
      "1.0\n"
     ]
    }
   ],
   "source": [
    "val_acc = m.predict(model, val_loader, device, config, unused_digit_model, False, False)\n",
    "print(val_acc)"
   ]
  }
 ],
 "metadata": {
  "kernelspec": {
   "display_name": "Python 3 (ipykernel)",
   "language": "python",
   "name": "python3"
  },
  "language_info": {
   "codemirror_mode": {
    "name": "ipython",
    "version": 3
   },
   "file_extension": ".py",
   "mimetype": "text/x-python",
   "name": "python",
   "nbconvert_exporter": "python",
   "pygments_lexer": "ipython3",
   "version": "3.9.12"
  }
 },
 "nbformat": 4,
 "nbformat_minor": 5
}
