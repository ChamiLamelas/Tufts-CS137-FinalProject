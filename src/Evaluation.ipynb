{
 "cells": [
  {
   "cell_type": "code",
   "execution_count": null,
   "id": "8b17bb96",
   "metadata": {},
   "outputs": [],
   "source": [
    "import torch\n",
    "import torch.nn as nn\n",
    "from vit_pytorch import ViT\n",
    "from graphs import Graph, prims\n",
    "import os\n",
    "import numpy as np\n",
    "import torchvision.models as models\n",
    "import torchvision.transforms as transforms\n",
    "from torchvision.models import ResNet18_Weights\n",
    "from tree_dataset import TreeDataset\n",
    "import model as m\n",
    "from torch.utils.data import DataLoader\n",
    "from d2lvit import *\n",
    "import copy\n",
    "from collections import OrderedDict"
   ]
  },
  {
   "cell_type": "code",
   "execution_count": null,
   "id": "4f3ac66c",
   "metadata": {},
   "outputs": [],
   "source": [
    "d2l_digit_model = torch.load(os.path.join('..', 'models', 'd2lvit_3', 'digit-model.pt'))\n",
    "torch_digit_model = torch.load(os.path.join('..', 'models', 'finetune_3', 'digit-model.pt'))\n",
    "untrained_torch_digit_model = model = torch.load(os.path.join('..', 'models', 'untrained_torchvit', 'digit-model.pt'))\n",
    "d2l_tree_model = torch.load(os.path.join('..', 'models', 'd2lvit_3', 'tree-model.pt'))\n",
    "torch_tree_model = torch.load(os.path.join('..', 'models', 'finetune_3', 'tree-model.pt'))\n",
    "untrained_tree_torch_model = model = torch.load(os.path.join('..', 'models', 'untrained_torchvit', 'tree-model.pt'))\n",
    "d2l_tree_noprims_model = torch.load(os.path.join('..', 'models', 'd2lvit_noprims', 'tree-model.pt'))\n",
    "torch_tree_noprims_model = torch.load(os.path.join('..', 'models', 'finetune_noprims', 'tree-model.pt'))\n",
    "untrained_tree_torch_noprims_model = model = torch.load(os.path.join('..', 'models', 'untrained_torchvit_noprims', 'tree-model.pt'))"
   ]
  },
  {
   "cell_type": "code",
   "execution_count": null,
   "id": "08f5c5af",
   "metadata": {},
   "outputs": [],
   "source": [
    "preprocess = transforms.Compose([\n",
    "    transforms.Grayscale(),\n",
    "    transforms.Resize(256),\n",
    "    transforms.CenterCrop(224),\n",
    "    transforms.ToTensor()\n",
    "])\n",
    "torch_test_set = TreeDataset(os.path.join('..', 'data', 'extra_variety_1k'), m.resnet_preprocess()) \n",
    "d2l_test_set = TreeDataset(os.path.join('..', 'data', 'extra_variety_1k'), preprocess)\n",
    "print(f'Test size: {len(torch_test_set)}')\n",
    "torch_loader = DataLoader(torch_test_set, batch_size=32)\n",
    "d2l_loader = DataLoader(d2l_test_set, batch_size=32)\n",
    "device = m.get_device()\n",
    "config = {'labels_key': 'tree_label'}"
   ]
  },
  {
   "cell_type": "code",
   "execution_count": null,
   "id": "c640f7e9",
   "metadata": {},
   "outputs": [],
   "source": [
    "d2l_acc = m.predict(d2l_tree_model, d2l_loader, device, config, d2l_digit_model)\n",
    "print(d2l_acc)"
   ]
  },
  {
   "cell_type": "code",
   "execution_count": null,
   "id": "588279bf",
   "metadata": {},
   "outputs": [],
   "source": [
    "torch_acc = m.predict(torch_tree_model, torch_loader, device, config, torch_digit_model)\n",
    "print(torch_acc)"
   ]
  },
  {
   "cell_type": "code",
   "execution_count": null,
   "id": "1e9fcd7f",
   "metadata": {},
   "outputs": [],
   "source": [
    "untrained_torch_acc = m.predict(untrained_tree_torch_model, torch_loader, device, config, untrained_torch_digit_model)\n",
    "print(untrained_torch_acc)"
   ]
  },
  {
   "cell_type": "code",
   "execution_count": null,
   "id": "a6a8f13a",
   "metadata": {},
   "outputs": [],
   "source": [
    "d2l_noprims_acc = m.predict(d2l_tree_noprims_model, d2l_loader, device, config, d2l_digit_model)\n",
    "print(d2l_noprims_acc)"
   ]
  },
  {
   "cell_type": "code",
   "execution_count": null,
   "id": "071db1cc",
   "metadata": {},
   "outputs": [],
   "source": [
    "torch_noprims_acc = m.predict(torch_tree_noprims_model, torch_loader, device, config, torch_digit_model)\n",
    "print(torch_noprims_acc)"
   ]
  },
  {
   "cell_type": "code",
   "execution_count": null,
   "id": "96d1d77e",
   "metadata": {},
   "outputs": [],
   "source": [
    "untrained_torch_noprims_acc = m.predict(untrained_tree_torch_noprims_model, torch_loader, device, config, untrained_torch_digit_model)\n",
    "print(untrained_torch_noprims_acc)"
   ]
  }
 ],
 "metadata": {
  "kernelspec": {
   "display_name": "Python 3 (ipykernel)",
   "language": "python",
   "name": "python3"
  },
  "language_info": {
   "codemirror_mode": {
    "name": "ipython",
    "version": 3
   },
   "file_extension": ".py",
   "mimetype": "text/x-python",
   "name": "python",
   "nbconvert_exporter": "python",
   "pygments_lexer": "ipython3",
   "version": "3.9.12"
  }
 },
 "nbformat": 4,
 "nbformat_minor": 5
}
