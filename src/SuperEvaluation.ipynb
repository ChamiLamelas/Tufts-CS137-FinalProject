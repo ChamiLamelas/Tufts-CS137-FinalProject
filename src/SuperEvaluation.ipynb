{
 "cells": [
  {
   "cell_type": "code",
   "execution_count": 1,
   "id": "8b17bb96",
   "metadata": {},
   "outputs": [],
   "source": [
    "import torch\n",
    "import torch.nn as nn\n",
    "from vit_pytorch import ViT\n",
    "from graphs import Graph, prims\n",
    "import os\n",
    "import numpy as np\n",
    "import torchvision.models as models\n",
    "import torchvision.transforms as transforms\n",
    "from torchvision.models import ResNet18_Weights\n",
    "from tree_dataset import TreeDataset\n",
    "import model as m\n",
    "from torch.utils.data import DataLoader\n",
    "from d2lvit import *\n",
    "import copy\n",
    "from collections import OrderedDict"
   ]
  },
  {
   "cell_type": "code",
   "execution_count": 2,
   "id": "4f3ac66c",
   "metadata": {},
   "outputs": [],
   "source": [
    "d2l_digit_model = torch.load(os.path.join('..', 'models', 'd2lvit_3', 'digit-model.pt'))\n",
    "torch_digit_model = torch.load(os.path.join('..', 'models', 'finetune_3', 'digit-model.pt'))\n",
    "untrained_digit_model = torch.load(os.path.join('..', 'models', 'untrained_torchvit', 'digit-model.pt'))\n",
    "unused_digit_model = nn.Linear(1,1)\n",
    "\n",
    "d2l_tree_model = torch.load(os.path.join('..', 'models', 'd2lvit_3', 'tree-model.pt'))\n",
    "torch_tree_model = torch.load(os.path.join('..', 'models', 'finetune_3', 'tree-model.pt'))\n",
    "untrained_tree_model = torch.load(os.path.join('..', 'models', 'untrained_torchvit', 'tree-model.pt'))\n",
    "\n",
    "d2l_tree_noprims_model = torch.load(os.path.join('..', 'models', 'd2lvit_noprims', 'tree-model.pt'))\n",
    "torch_tree_noprims_model = torch.load(os.path.join('..', 'models', 'finetune_noprims', 'tree-model.pt'))\n",
    "untrained_tree_noprims_model = torch.load(os.path.join('..', 'models', 'untrained_torchvit_noprims', 'tree-model.pt'))\n",
    "\n",
    "d2l_scratchtree_model = torch.load(os.path.join('..', 'models', 'd2lvit_scratchtrees', 'tree-model.pt'))\n",
    "torch_scratchtree_model = torch.load(os.path.join('..', 'models', 'finetune_scratchtrees', 'tree-model.pt'))\n",
    "untrained_scratchtree_model = torch.load(os.path.join('..', 'models', 'untrained_torchvit_noprims_scratchtrees', 'tree-model.pt'))"
   ]
  },
  {
   "cell_type": "code",
   "execution_count": 15,
   "id": "08f5c5af",
   "metadata": {},
   "outputs": [
    {
     "name": "stdout",
     "output_type": "stream",
     "text": [
      "Test size: 2000\n",
      "Identified CUDA device: NVIDIA GeForce RTX 3060\n"
     ]
    }
   ],
   "source": [
    "preprocess = transforms.Compose([\n",
    "    transforms.Grayscale(),\n",
    "    transforms.Resize(256),\n",
    "    transforms.CenterCrop(224),\n",
    "    transforms.ToTensor()\n",
    "])\n",
    "torch_test_set = TreeDataset(os.path.join('..', 'data', 'super_variety_2k'), m.resnet_preprocess()) \n",
    "d2l_test_set = TreeDataset(os.path.join('..', 'data', 'super_variety_2k'), preprocess)\n",
    "print(f'Test size: {len(torch_test_set)}')\n",
    "torch_loader = DataLoader(torch_test_set, batch_size=32)\n",
    "d2l_loader = DataLoader(d2l_test_set, batch_size=32)\n",
    "device = m.get_device()\n",
    "config = {'labels_key': 'tree_label'}"
   ]
  },
  {
   "cell_type": "code",
   "execution_count": 4,
   "id": "c640f7e9",
   "metadata": {},
   "outputs": [
    {
     "name": "stdout",
     "output_type": "stream",
     "text": [
      "0.1135\n"
     ]
    }
   ],
   "source": [
    "d2l_acc = m.predict(d2l_tree_model, d2l_loader, device, config, d2l_digit_model, False)\n",
    "print(d2l_acc)"
   ]
  },
  {
   "cell_type": "code",
   "execution_count": 5,
   "id": "588279bf",
   "metadata": {},
   "outputs": [
    {
     "name": "stdout",
     "output_type": "stream",
     "text": [
      "0.1135\n"
     ]
    }
   ],
   "source": [
    "torch_acc = m.predict(torch_tree_model, torch_loader, device, config, torch_digit_model)\n",
    "print(torch_acc)"
   ]
  },
  {
   "cell_type": "code",
   "execution_count": 6,
   "id": "634abb10",
   "metadata": {},
   "outputs": [
    {
     "name": "stdout",
     "output_type": "stream",
     "text": [
      "0.113\n"
     ]
    }
   ],
   "source": [
    "untrained_acc = m.predict(untrained_tree_model, torch_loader, device, config, untrained_digit_model, False)\n",
    "print(untrained_acc)"
   ]
  },
  {
   "cell_type": "code",
   "execution_count": 7,
   "id": "a6a8f13a",
   "metadata": {},
   "outputs": [
    {
     "name": "stdout",
     "output_type": "stream",
     "text": [
      "0.113\n"
     ]
    }
   ],
   "source": [
    "d2l_noprims_acc = m.predict(d2l_tree_noprims_model, d2l_loader, device, config, d2l_digit_model, False, False)\n",
    "print(d2l_noprims_acc)"
   ]
  },
  {
   "cell_type": "code",
   "execution_count": 8,
   "id": "071db1cc",
   "metadata": {},
   "outputs": [
    {
     "name": "stdout",
     "output_type": "stream",
     "text": [
      "0.1135\n"
     ]
    }
   ],
   "source": [
    "torch_noprims_acc = m.predict(torch_tree_noprims_model, torch_loader, device, config, torch_digit_model, False, False)\n",
    "print(torch_noprims_acc)"
   ]
  },
  {
   "cell_type": "code",
   "execution_count": 9,
   "id": "ee7c895f",
   "metadata": {},
   "outputs": [
    {
     "name": "stdout",
     "output_type": "stream",
     "text": [
      "0.1125\n"
     ]
    }
   ],
   "source": [
    "untrained_noprims_acc = m.predict(untrained_tree_noprims_model, torch_loader, device, config, untrained_digit_model, False, False)\n",
    "print(untrained_noprims_acc)"
   ]
  },
  {
   "cell_type": "code",
   "execution_count": 10,
   "id": "12ee05da",
   "metadata": {},
   "outputs": [
    {
     "name": "stdout",
     "output_type": "stream",
     "text": [
      "0.1135\n"
     ]
    }
   ],
   "source": [
    "d2l_scratchtree_acc = m.predict(d2l_scratchtree_model, d2l_loader, device, config, unused_digit_model, False, False)\n",
    "print(d2l_scratchtree_acc)"
   ]
  },
  {
   "cell_type": "code",
   "execution_count": 11,
   "id": "cfb44527",
   "metadata": {},
   "outputs": [
    {
     "name": "stdout",
     "output_type": "stream",
     "text": [
      "0.1135\n"
     ]
    }
   ],
   "source": [
    "torch_scratchtree_acc = m.predict(torch_scratchtree_model, torch_loader, device, config, unused_digit_model, False, False)\n",
    "print(torch_scratchtree_acc)"
   ]
  },
  {
   "cell_type": "code",
   "execution_count": 12,
   "id": "0c240d82",
   "metadata": {},
   "outputs": [
    {
     "name": "stdout",
     "output_type": "stream",
     "text": [
      "0.1125\n"
     ]
    }
   ],
   "source": [
    "untrained_scratchtree_acc = m.predict(untrained_scratchtree_model, torch_loader, device, config, unused_digit_model, False, False)\n",
    "print(untrained_scratchtree_acc)"
   ]
  },
  {
   "cell_type": "code",
   "execution_count": 16,
   "id": "7b38bd84",
   "metadata": {},
   "outputs": [
    {
     "name": "stdout",
     "output_type": "stream",
     "text": [
      "0.8545\n",
      "0.8485\n"
     ]
    }
   ],
   "source": [
    "trained_torch_digit_model = torch.load(os.path.join('..', 'models', 'finetune_super4', 'digit-model.pt'))\n",
    "trained_torch_tree_model = torch.load(os.path.join('..', 'models', 'finetune_super4', 'tree-model.pt'))\n",
    "print(m.predict(trained_torch_digit_model, torch_loader, device, {'labels_key': 'digit_labels'}, None))\n",
    "print(m.predict(trained_torch_tree_model, torch_loader, device, config, trained_torch_digit_model))"
   ]
  }
 ],
 "metadata": {
  "kernelspec": {
   "display_name": "Python 3 (ipykernel)",
   "language": "python",
   "name": "python3"
  },
  "language_info": {
   "codemirror_mode": {
    "name": "ipython",
    "version": 3
   },
   "file_extension": ".py",
   "mimetype": "text/x-python",
   "name": "python",
   "nbconvert_exporter": "python",
   "pygments_lexer": "ipython3",
   "version": "3.9.12"
  }
 },
 "nbformat": 4,
 "nbformat_minor": 5
}
