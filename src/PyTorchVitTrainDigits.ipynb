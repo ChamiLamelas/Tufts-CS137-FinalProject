{
 "cells": [
  {
   "cell_type": "code",
   "execution_count": 6,
   "id": "5f75516a",
   "metadata": {},
   "outputs": [],
   "source": [
    "import torch\n",
    "import torch.nn as nn\n",
    "from vit_pytorch import ViT\n",
    "from graphs import Graph, prims\n",
    "import os\n",
    "import numpy as np\n",
    "import torchvision.models as models\n",
    "import torchvision.transforms as transforms\n",
    "from torchvision.models import ResNet18_Weights"
   ]
  },
  {
   "cell_type": "code",
   "execution_count": 7,
   "id": "7331720a",
   "metadata": {},
   "outputs": [],
   "source": [
    "model = models.vit_b_16(weights=\"ViT_B_16_Weights.IMAGENET1K_V1\")"
   ]
  },
  {
   "cell_type": "code",
   "execution_count": 9,
   "id": "43626814",
   "metadata": {},
   "outputs": [],
   "source": [
    "from tree_dataset import TreeDataset\n",
    "import model as m\n",
    "from torch.utils.data import DataLoader\n",
    "import os\n",
    "import torchvision.transforms as transforms\n",
    "from collections import OrderedDict"
   ]
  },
  {
   "cell_type": "code",
   "execution_count": 10,
   "id": "6bb97f25",
   "metadata": {},
   "outputs": [
    {
     "name": "stdout",
     "output_type": "stream",
     "text": [
      "Train size: 2000 Val size: 1000\n",
      "Identified CUDA device: NVIDIA GeForce RTX 3060\n"
     ]
    }
   ],
   "source": [
    "train_set = TreeDataset(os.path.join('..', 'data', 'trainset4'), m.resnet_preprocess()) \n",
    "val_set = TreeDataset(os.path.join('..', 'data', 'trainset1'), m.resnet_preprocess()) \n",
    "print(f'Train size: {len(train_set)} Val size: {len(val_set)}')\n",
    "train_loader = DataLoader(train_set, batch_size=32)\n",
    "val_loader = DataLoader(val_set, batch_size=32)\n",
    "device = m.get_device()\n",
    "config = {'labels_key': 'digit_labels'}\n",
    "model.heads = nn.Sequential(OrderedDict([('head', nn.Linear(768, 10))]))\n",
    "model = model.to(device)"
   ]
  },
  {
   "cell_type": "code",
   "execution_count": 12,
   "id": "26966887",
   "metadata": {},
   "outputs": [
    {
     "data": {
      "text/plain": [
       "tensor([[-0.0544, -0.7788,  0.3431,  0.0699, -0.2679,  0.1827,  0.0417,  0.0031,\n",
       "          0.3724, -0.0470]], device='cuda:0', grad_fn=<AddmmBackward0>)"
      ]
     },
     "execution_count": 12,
     "metadata": {},
     "output_type": "execute_result"
    }
   ],
   "source": [
    "model(torch.unsqueeze(train_set[0]['image'], 0).to(device))"
   ]
  },
  {
   "cell_type": "code",
   "execution_count": 13,
   "id": "e369d01d",
   "metadata": {},
   "outputs": [
    {
     "name": "stdout",
     "output_type": "stream",
     "text": [
      "Epoch 10 done, train loss: 0.0023 val acc: 1.0000\n",
      "Epoch 20 done, train loss: 0.0008 val acc: 1.0000\n",
      "Epoch 30 done, train loss: 0.0004 val acc: 1.0000\n"
     ]
    }
   ],
   "source": [
    "m.train(model, 0.0001, 0, 30, train_loader, val_loader, device, os.path.join('..', 'models', 'finetune'), None)"
   ]
  },
  {
   "cell_type": "code",
   "execution_count": null,
   "id": "00ceb0c8",
   "metadata": {},
   "outputs": [],
   "source": []
  }
 ],
 "metadata": {
  "kernelspec": {
   "display_name": "Python 3 (ipykernel)",
   "language": "python",
   "name": "python3"
  },
  "language_info": {
   "codemirror_mode": {
    "name": "ipython",
    "version": 3
   },
   "file_extension": ".py",
   "mimetype": "text/x-python",
   "name": "python",
   "nbconvert_exporter": "python",
   "pygments_lexer": "ipython3",
   "version": "3.9.12"
  },
  "vscode": {
   "interpreter": {
    "hash": "335e3d3663586120ae3fe88292179d250920064d388246698088f699d86512e8"
   }
  }
 },
 "nbformat": 4,
 "nbformat_minor": 5
}
