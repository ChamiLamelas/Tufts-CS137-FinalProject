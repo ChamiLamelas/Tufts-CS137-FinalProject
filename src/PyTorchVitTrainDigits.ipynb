{
 "cells": [
  {
   "cell_type": "code",
   "execution_count": 1,
   "id": "06ab9191",
   "metadata": {},
   "outputs": [],
   "source": [
    "import torch\n",
    "import torch.nn as nn\n",
    "from vit_pytorch import ViT\n",
    "from graphs import Graph, prims\n",
    "import os\n",
    "import numpy as np\n",
    "import torchvision.models as models\n",
    "import torchvision.transforms as transforms\n",
    "from torchvision.models import ResNet18_Weights"
   ]
  },
  {
   "cell_type": "code",
   "execution_count": 2,
   "id": "dd9f41ae",
   "metadata": {},
   "outputs": [],
   "source": [
    "model = models.vit_b_16(weights=\"ViT_B_16_Weights.IMAGENET1K_V1\")"
   ]
  },
  {
   "cell_type": "code",
   "execution_count": 16,
   "id": "191db194",
   "metadata": {},
   "outputs": [],
   "source": [
    "from tree_dataset import TreeDataset, show_img\n",
    "import model as m\n",
    "from torch.utils.data import DataLoader\n",
    "import os\n",
    "import torchvision.transforms as transforms\n",
    "from collections import OrderedDict"
   ]
  },
  {
   "cell_type": "code",
   "execution_count": 4,
   "id": "50723355",
   "metadata": {},
   "outputs": [
    {
     "name": "stdout",
     "output_type": "stream",
     "text": [
      "Train size: 4000 Val size: 1000\n",
      "Identified CUDA device: NVIDIA GeForce RTX 3060\n"
     ]
    }
   ],
   "source": [
    "train_set = TreeDataset(os.path.join('..', 'data', 'super_variety_4k'), transforms.Compose([\n",
    "    transforms.RandAugment(),\n",
    "    m.resnet_preprocess()\n",
    "])) \n",
    "val_set = TreeDataset(os.path.join('..', 'data', 'super_variety_1k'), m.resnet_preprocess()) \n",
    "print(f'Train size: {len(train_set)} Val size: {len(val_set)}')\n",
    "train_loader = DataLoader(train_set, batch_size=32)\n",
    "val_loader = DataLoader(val_set, batch_size=32)\n",
    "device = m.get_device()\n",
    "config = {'labels_key': 'digit_labels'}\n",
    "model.heads = nn.Sequential(OrderedDict([('head', nn.Linear(768, 10))]))\n",
    "m.set_torch_vit_dropouts(model, 0.1)\n",
    "model = model.to(device)"
   ]
  },
  {
   "cell_type": "code",
   "execution_count": 5,
   "id": "dceb92b4",
   "metadata": {},
   "outputs": [
    {
     "data": {
      "text/plain": [
       "tensor([[ 0.0977, -0.5913,  0.3210, -0.2130, -0.0865,  0.1422, -0.2270,  0.0059,\n",
       "          0.3273, -0.2642]], device='cuda:0', grad_fn=<AddmmBackward0>)"
      ]
     },
     "execution_count": 5,
     "metadata": {},
     "output_type": "execute_result"
    }
   ],
   "source": [
    "model(torch.unsqueeze(train_set[0]['image'], 0).to(device))"
   ]
  },
  {
   "cell_type": "code",
   "execution_count": 6,
   "id": "80e743ac",
   "metadata": {
    "scrolled": true
   },
   "outputs": [
    {
     "name": "stdout",
     "output_type": "stream",
     "text": [
      "Epoch 10 done, train loss: 0.4201 val acc: 0.3260\n",
      "Epoch 20 done, train loss: 0.2277 val acc: 0.6650\n",
      "Epoch 30 done, train loss: 0.1625 val acc: 0.7530\n",
      "Epoch 40 done, train loss: 0.1313 val acc: 0.8150\n",
      "Epoch 50 done, train loss: 0.1106 val acc: 0.8420\n",
      "Epoch 60 done, train loss: 0.1038 val acc: 0.8290\n"
     ]
    }
   ],
   "source": [
    "m.train(model, 0.0001, 0, 60, train_loader, val_loader, device, os.path.join('..', 'models', 'finetune_super3'), None)"
   ]
  },
  {
   "cell_type": "code",
   "execution_count": 7,
   "id": "2e443155",
   "metadata": {},
   "outputs": [],
   "source": [
    "model = torch.load(os.path.join('..', 'models', 'finetune_super3', 'digit-model.pt'))\n",
    "final_model = torch.load(os.path.join('..', 'models', 'finetune_super3', 'final-digit-model.pt'))"
   ]
  },
  {
   "cell_type": "code",
   "execution_count": 8,
   "id": "2810249f",
   "metadata": {},
   "outputs": [
    {
     "name": "stdout",
     "output_type": "stream",
     "text": [
      "0.8565\n"
     ]
    }
   ],
   "source": [
    "train_acc = m.predict(model, train_loader, device, config, None, True)\n",
    "print(train_acc)"
   ]
  },
  {
   "cell_type": "code",
   "execution_count": 12,
   "id": "07bdd37f",
   "metadata": {},
   "outputs": [
    {
     "name": "stdout",
     "output_type": "stream",
     "text": [
      "tree_3: tensor([1, 0, 1, 0, 0, 0, 1, 1, 1, 0], device='cuda:0')\n",
      "tree_26: tensor([0, 1, 1, 0, 0, 0, 1, 1, 1, 0], device='cuda:0')\n",
      "tree_29: tensor([0, 1, 1, 0, 0, 0, 0, 0, 1, 0], device='cuda:0')\n",
      "tree_34: tensor([1, 0, 0, 1, 1, 1, 0, 0, 1, 0], device='cuda:0')\n",
      "tree_45: tensor([1, 1, 0, 0, 0, 0, 0, 0, 0, 0], device='cuda:0')\n",
      "tree_49: tensor([0, 0, 0, 0, 1, 0, 1, 1, 0, 0], device='cuda:0')\n",
      "tree_56: tensor([1, 0, 1, 1, 0, 0, 0, 0, 0, 0], device='cuda:0')\n",
      "tree_74: tensor([0, 0, 0, 1, 0, 0, 1, 1, 0, 0], device='cuda:0')\n",
      "tree_83: tensor([1, 0, 0, 0, 1, 1, 1, 1, 0, 0], device='cuda:0')\n",
      "tree_88: tensor([0, 0, 0, 0, 1, 1, 0, 1, 0, 0], device='cuda:0')\n",
      "tree_96: tensor([0, 0, 0, 1, 1, 1, 1, 1, 0, 0], device='cuda:0')\n",
      "tree_99: tensor([1, 1, 1, 1, 0, 1, 1, 1, 1, 0], device='cuda:0')\n",
      "tree_102: tensor([0, 1, 0, 0, 0, 0, 0, 0, 1, 0], device='cuda:0')\n",
      "tree_108: tensor([0, 0, 1, 1, 0, 0, 0, 0, 0, 1], device='cuda:0')\n",
      "tree_114: tensor([1, 0, 1, 1, 0, 0, 1, 0, 0, 0], device='cuda:0')\n",
      "tree_118: tensor([1, 1, 0, 0, 0, 1, 1, 1, 1, 0], device='cuda:0')\n",
      "tree_132: tensor([0, 0, 0, 0, 0, 0, 1, 1, 0, 1], device='cuda:0')\n",
      "tree_137: tensor([0, 0, 1, 1, 1, 0, 0, 0, 0, 1], device='cuda:0')\n",
      "tree_145: tensor([0, 0, 1, 0, 1, 1, 1, 1, 1, 0], device='cuda:0')\n",
      "tree_147: tensor([0, 0, 1, 1, 1, 0, 1, 1, 0, 0], device='cuda:0')\n",
      "tree_150: tensor([0, 0, 0, 0, 0, 1, 1, 1, 1, 0], device='cuda:0')\n",
      "tree_153: tensor([0, 0, 0, 1, 1, 1, 1, 1, 1, 0], device='cuda:0')\n",
      "tree_176: tensor([1, 0, 0, 1, 1, 0, 0, 1, 1, 0], device='cuda:0')\n",
      "tree_177: tensor([0, 0, 0, 0, 1, 1, 1, 1, 1, 0], device='cuda:0')\n",
      "tree_203: tensor([0, 1, 1, 0, 1, 1, 0, 0, 0, 1], device='cuda:0')\n",
      "tree_208: tensor([0, 1, 0, 0, 1, 0, 0, 0, 0, 1], device='cuda:0')\n",
      "tree_214: tensor([0, 1, 1, 0, 0, 0, 1, 1, 1, 0], device='cuda:0')\n",
      "tree_219: tensor([0, 0, 1, 0, 1, 1, 1, 1, 1, 0], device='cuda:0')\n",
      "tree_226: tensor([0, 0, 0, 0, 1, 0, 1, 1, 1, 0], device='cuda:0')\n",
      "tree_227: tensor([0, 1, 1, 0, 0, 1, 0, 0, 1, 0], device='cuda:0')\n",
      "tree_233: tensor([0, 1, 1, 1, 0, 1, 0, 0, 0, 0], device='cuda:0')\n",
      "tree_242: tensor([0, 0, 1, 1, 0, 0, 0, 0, 0, 1], device='cuda:0')\n",
      "tree_247: tensor([0, 0, 0, 1, 0, 0, 0, 0, 0, 1], device='cuda:0')\n",
      "tree_253: tensor([0, 1, 1, 1, 1, 0, 1, 1, 0, 0], device='cuda:0')\n",
      "tree_255: tensor([1, 0, 1, 0, 1, 1, 1, 0, 0, 0], device='cuda:0')\n",
      "tree_258: tensor([0, 0, 0, 0, 1, 1, 0, 0, 0, 1], device='cuda:0')\n",
      "tree_260: tensor([1, 0, 0, 1, 0, 0, 0, 0, 0, 1], device='cuda:0')\n",
      "tree_261: tensor([0, 1, 1, 1, 0, 0, 1, 0, 0, 0], device='cuda:0')\n",
      "tree_301: tensor([0, 0, 1, 0, 0, 0, 0, 1, 1, 0], device='cuda:0')\n",
      "tree_302: tensor([0, 1, 0, 0, 0, 0, 1, 1, 1, 0], device='cuda:0')\n",
      "tree_304: tensor([0, 1, 1, 1, 1, 0, 0, 0, 0, 0], device='cuda:0')\n",
      "tree_319: tensor([1, 0, 0, 0, 1, 0, 1, 1, 1, 0], device='cuda:0')\n",
      "tree_332: tensor([0, 1, 1, 1, 0, 1, 1, 1, 1, 0], device='cuda:0')\n",
      "tree_338: tensor([0, 1, 1, 1, 0, 0, 0, 1, 0, 0], device='cuda:0')\n",
      "tree_339: tensor([0, 1, 1, 0, 0, 0, 1, 1, 1, 0], device='cuda:0')\n",
      "tree_343: tensor([1, 1, 0, 0, 0, 0, 0, 0, 1, 0], device='cuda:0')\n",
      "tree_351: tensor([1, 0, 1, 0, 0, 0, 1, 1, 1, 0], device='cuda:0')\n",
      "tree_365: tensor([0, 0, 1, 0, 0, 0, 1, 0, 0, 1], device='cuda:0')\n",
      "tree_366: tensor([0, 1, 1, 1, 0, 0, 0, 0, 1, 0], device='cuda:0')\n",
      "tree_367: tensor([0, 0, 0, 1, 0, 0, 1, 0, 0, 0], device='cuda:0')\n",
      "tree_375: tensor([0, 0, 1, 1, 0, 1, 0, 0, 0, 1], device='cuda:0')\n",
      "tree_383: tensor([0, 0, 0, 0, 0, 0, 1, 1, 1, 0], device='cuda:0')\n",
      "tree_386: tensor([0, 0, 0, 1, 1, 1, 1, 0, 0, 1], device='cuda:0')\n",
      "tree_393: tensor([1, 0, 1, 0, 0, 0, 0, 0, 1, 0], device='cuda:0')\n",
      "tree_394: tensor([0, 1, 0, 0, 0, 0, 1, 0, 0, 1], device='cuda:0')\n",
      "tree_398: tensor([0, 0, 1, 1, 1, 0, 1, 1, 1, 0], device='cuda:0')\n",
      "tree_400: tensor([0, 0, 1, 0, 1, 0, 0, 0, 0, 0], device='cuda:0')\n",
      "tree_404: tensor([0, 1, 0, 1, 1, 1, 1, 0, 0, 0], device='cuda:0')\n",
      "tree_421: tensor([0, 0, 1, 1, 1, 0, 1, 1, 1, 0], device='cuda:0')\n",
      "tree_456: tensor([1, 1, 1, 0, 1, 1, 1, 1, 1, 0], device='cuda:0')\n",
      "tree_472: tensor([1, 0, 1, 0, 0, 1, 1, 0, 0, 1], device='cuda:0')\n",
      "tree_515: tensor([0, 0, 1, 0, 0, 0, 1, 1, 0, 0], device='cuda:0')\n",
      "tree_542: tensor([0, 0, 0, 0, 0, 1, 1, 1, 1, 0], device='cuda:0')\n",
      "tree_545: tensor([0, 0, 1, 0, 0, 0, 0, 1, 0, 1], device='cuda:0')\n",
      "tree_546: tensor([0, 0, 0, 0, 1, 1, 1, 0, 0, 0], device='cuda:0')\n",
      "tree_554: tensor([0, 1, 0, 1, 1, 1, 1, 0, 1, 0], device='cuda:0')\n",
      "tree_561: tensor([0, 1, 1, 1, 1, 1, 1, 1, 1, 0], device='cuda:0')\n",
      "tree_564: tensor([0, 0, 1, 0, 0, 0, 0, 0, 0, 1], device='cuda:0')\n",
      "tree_565: tensor([1, 1, 0, 0, 0, 0, 0, 0, 0, 0], device='cuda:0')\n",
      "tree_572: tensor([0, 1, 0, 0, 1, 0, 1, 1, 1, 0], device='cuda:0')\n",
      "tree_582: tensor([0, 0, 0, 0, 0, 0, 1, 0, 0, 1], device='cuda:0')\n",
      "tree_591: tensor([0, 1, 1, 0, 1, 1, 1, 0, 1, 0], device='cuda:0')\n",
      "tree_605: tensor([0, 1, 0, 0, 0, 0, 1, 0, 0, 1], device='cuda:0')\n",
      "tree_614: tensor([0, 0, 0, 0, 0, 0, 0, 1, 0, 1], device='cuda:0')\n",
      "tree_619: tensor([0, 0, 0, 1, 1, 1, 1, 1, 0, 0], device='cuda:0')\n",
      "tree_620: tensor([0, 0, 0, 0, 1, 1, 1, 1, 1, 0], device='cuda:0')\n",
      "tree_621: tensor([1, 0, 0, 0, 0, 0, 1, 1, 1, 0], device='cuda:0')\n",
      "tree_622: tensor([0, 1, 0, 0, 0, 0, 1, 0, 1, 0], device='cuda:0')\n",
      "tree_635: tensor([0, 0, 1, 1, 0, 0, 0, 0, 1, 0], device='cuda:0')\n",
      "tree_638: tensor([0, 0, 1, 0, 1, 1, 1, 0, 0, 1], device='cuda:0')\n",
      "tree_644: tensor([0, 0, 0, 1, 1, 0, 0, 1, 1, 0], device='cuda:0')\n",
      "tree_645: tensor([1, 1, 1, 0, 0, 0, 0, 0, 0, 0], device='cuda:0')\n",
      "tree_649: tensor([0, 0, 0, 1, 1, 1, 0, 0, 0, 0], device='cuda:0')\n",
      "tree_650: tensor([0, 0, 0, 0, 0, 0, 0, 1, 0, 1], device='cuda:0')\n",
      "tree_656: tensor([0, 0, 1, 1, 1, 0, 0, 1, 1, 0], device='cuda:0')\n",
      "tree_658: tensor([0, 1, 1, 1, 1, 0, 1, 1, 1, 0], device='cuda:0')\n",
      "tree_671: tensor([0, 1, 0, 1, 0, 1, 1, 1, 1, 0], device='cuda:0')\n",
      "tree_673: tensor([1, 1, 1, 1, 1, 0, 1, 0, 0, 0], device='cuda:0')\n",
      "tree_689: tensor([0, 1, 0, 0, 0, 0, 0, 1, 1, 0], device='cuda:0')\n",
      "tree_694: tensor([0, 0, 0, 1, 1, 0, 0, 1, 0, 1], device='cuda:0')\n",
      "tree_704: tensor([1, 0, 1, 1, 0, 1, 1, 1, 1, 0], device='cuda:0')\n",
      "tree_716: tensor([0, 0, 0, 0, 1, 0, 0, 1, 1, 0], device='cuda:0')\n",
      "tree_717: tensor([0, 0, 0, 0, 0, 0, 1, 1, 0, 1], device='cuda:0')\n",
      "tree_734: tensor([0, 0, 1, 1, 1, 0, 1, 1, 0, 0], device='cuda:0')\n",
      "tree_736: tensor([1, 0, 0, 0, 1, 1, 1, 1, 1, 0], device='cuda:0')\n",
      "tree_738: tensor([0, 1, 1, 1, 0, 1, 1, 1, 0, 0], device='cuda:0')\n",
      "tree_739: tensor([0, 0, 0, 0, 1, 0, 0, 1, 1, 0], device='cuda:0')\n",
      "tree_740: tensor([0, 0, 0, 1, 1, 1, 0, 0, 1, 0], device='cuda:0')\n",
      "tree_742: tensor([1, 0, 0, 0, 1, 0, 1, 1, 1, 0], device='cuda:0')\n",
      "tree_743: tensor([1, 0, 1, 0, 0, 0, 0, 1, 0, 0], device='cuda:0')\n",
      "tree_748: tensor([0, 1, 1, 1, 0, 0, 0, 1, 1, 0], device='cuda:0')\n",
      "tree_751: tensor([0, 0, 0, 1, 0, 0, 0, 0, 1, 0], device='cuda:0')\n",
      "tree_752: tensor([1, 1, 1, 1, 1, 0, 1, 1, 1, 0], device='cuda:0')\n",
      "tree_754: tensor([0, 0, 1, 0, 1, 0, 0, 0, 0, 1], device='cuda:0')\n",
      "tree_755: tensor([0, 1, 1, 1, 0, 0, 0, 1, 0, 0], device='cuda:0')\n",
      "tree_760: tensor([0, 0, 0, 0, 0, 0, 1, 1, 1, 0], device='cuda:0')\n",
      "tree_765: tensor([0, 0, 1, 1, 0, 0, 1, 1, 0, 1], device='cuda:0')\n",
      "tree_769: tensor([1, 1, 1, 0, 0, 0, 1, 1, 1, 0], device='cuda:0')\n",
      "tree_772: tensor([0, 1, 1, 1, 1, 1, 1, 0, 0, 0], device='cuda:0')\n",
      "tree_787: tensor([0, 1, 1, 0, 1, 1, 1, 1, 1, 0], device='cuda:0')\n",
      "tree_802: tensor([0, 0, 1, 1, 0, 1, 1, 0, 0, 0], device='cuda:0')\n",
      "tree_804: tensor([1, 1, 0, 1, 0, 0, 0, 0, 0, 0], device='cuda:0')\n",
      "tree_809: tensor([0, 1, 1, 1, 1, 1, 1, 1, 0, 0], device='cuda:0')\n",
      "tree_819: tensor([1, 0, 0, 0, 0, 0, 0, 1, 1, 0], device='cuda:0')\n",
      "tree_828: tensor([0, 0, 0, 1, 0, 0, 0, 0, 0, 0], device='cuda:0')\n",
      "tree_839: tensor([0, 0, 1, 0, 0, 0, 0, 0, 0, 1], device='cuda:0')\n",
      "tree_850: tensor([0, 0, 0, 0, 1, 1, 1, 0, 0, 0], device='cuda:0')\n",
      "tree_863: tensor([0, 1, 1, 1, 1, 1, 1, 1, 0, 0], device='cuda:0')\n",
      "tree_869: tensor([0, 0, 0, 0, 0, 0, 1, 1, 0, 1], device='cuda:0')\n",
      "tree_878: tensor([1, 1, 1, 1, 0, 0, 0, 0, 0, 0], device='cuda:0')\n",
      "tree_880: tensor([0, 1, 1, 1, 0, 0, 0, 0, 1, 0], device='cuda:0')\n",
      "tree_884: tensor([0, 0, 0, 0, 0, 1, 1, 1, 0, 1], device='cuda:0')\n",
      "tree_888: tensor([0, 1, 0, 0, 0, 1, 0, 0, 0, 1], device='cuda:0')\n",
      "tree_890: tensor([0, 0, 0, 0, 0, 0, 0, 0, 1, 0], device='cuda:0')\n",
      "tree_893: tensor([0, 1, 1, 1, 1, 0, 0, 0, 0, 0], device='cuda:0')\n"
     ]
    },
    {
     "name": "stdout",
     "output_type": "stream",
     "text": [
      "tree_898: tensor([0, 1, 1, 1, 1, 0, 1, 1, 1, 0], device='cuda:0')\n",
      "tree_901: tensor([0, 0, 1, 0, 0, 0, 1, 0, 1, 0], device='cuda:0')\n",
      "tree_903: tensor([0, 0, 0, 1, 1, 1, 1, 1, 0, 0], device='cuda:0')\n",
      "tree_912: tensor([0, 0, 1, 0, 0, 1, 0, 0, 0, 1], device='cuda:0')\n",
      "tree_922: tensor([0, 0, 0, 1, 1, 1, 0, 0, 0, 0], device='cuda:0')\n",
      "tree_923: tensor([1, 0, 0, 0, 0, 0, 0, 0, 1, 0], device='cuda:0')\n",
      "tree_930: tensor([0, 1, 1, 0, 0, 0, 0, 0, 0, 0], device='cuda:0')\n",
      "tree_940: tensor([0, 0, 1, 0, 1, 0, 0, 1, 1, 0], device='cuda:0')\n",
      "tree_942: tensor([0, 0, 0, 0, 0, 0, 0, 0, 0, 0], device='cuda:0')\n",
      "tree_944: tensor([0, 0, 0, 0, 0, 1, 1, 1, 0, 1], device='cuda:0')\n",
      "tree_955: tensor([1, 0, 1, 0, 0, 1, 1, 1, 1, 0], device='cuda:0')\n",
      "tree_958: tensor([0, 0, 0, 1, 0, 0, 0, 0, 0, 0], device='cuda:0')\n",
      "tree_966: tensor([0, 0, 0, 1, 1, 0, 1, 1, 1, 0], device='cuda:0')\n",
      "tree_968: tensor([1, 0, 0, 0, 0, 0, 0, 0, 0, 1], device='cuda:0')\n",
      "tree_970: tensor([1, 0, 0, 0, 0, 0, 0, 0, 0, 0], device='cuda:0')\n",
      "tree_971: tensor([0, 0, 0, 0, 1, 1, 1, 0, 1, 0], device='cuda:0')\n",
      "tree_980: tensor([0, 1, 1, 0, 1, 1, 0, 0, 0, 0], device='cuda:0')\n",
      "tree_996: tensor([0, 0, 0, 0, 1, 1, 1, 1, 0, 1], device='cuda:0')\n",
      "0.857\n"
     ]
    }
   ],
   "source": [
    "val_acc = m.predict(model, val_loader, device, config, None, True)\n",
    "print(val_acc)"
   ]
  },
  {
   "cell_type": "code",
   "execution_count": 17,
   "id": "024aa2ce",
   "metadata": {},
   "outputs": [
    {
     "name": "stdout",
     "output_type": "stream",
     "text": [
      "tensor([1, 0, 0, 0, 0, 1, 1, 0, 1, 0], dtype=torch.int32)\n"
     ]
    }
   ],
   "source": [
    "idx = 3\n",
    "elem = val_set[3]\n",
    "print(elem['digit_labels'])\n",
    "show_img(elem['image'])"
   ]
  },
  {
   "cell_type": "code",
   "execution_count": 10,
   "id": "184853ec",
   "metadata": {},
   "outputs": [
    {
     "name": "stdout",
     "output_type": "stream",
     "text": [
      "0.8475\n"
     ]
    }
   ],
   "source": [
    "final_train_acc = m.predict(final_model, train_loader, device, config, None)\n",
    "print(final_train_acc)"
   ]
  },
  {
   "cell_type": "code",
   "execution_count": 11,
   "id": "65623267",
   "metadata": {},
   "outputs": [
    {
     "name": "stdout",
     "output_type": "stream",
     "text": [
      "0.829\n"
     ]
    }
   ],
   "source": [
    "final_val_acc = m.predict(final_model, val_loader, device, config, None)\n",
    "print(final_val_acc)"
   ]
  }
 ],
 "metadata": {
  "kernelspec": {
   "display_name": "Python 3 (ipykernel)",
   "language": "python",
   "name": "python3"
  },
  "language_info": {
   "codemirror_mode": {
    "name": "ipython",
    "version": 3
   },
   "file_extension": ".py",
   "mimetype": "text/x-python",
   "name": "python",
   "nbconvert_exporter": "python",
   "pygments_lexer": "ipython3",
   "version": "3.9.12"
  },
  "vscode": {
   "interpreter": {
    "hash": "335e3d3663586120ae3fe88292179d250920064d388246698088f699d86512e8"
   }
  }
 },
 "nbformat": 4,
 "nbformat_minor": 5
}
